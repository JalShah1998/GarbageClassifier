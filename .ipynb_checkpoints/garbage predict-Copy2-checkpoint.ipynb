{
 "cells": [
  {
   "cell_type": "code",
   "execution_count": null,
   "metadata": {},
   "outputs": [],
   "source": [
    "import numpy as np\n",
    "import cv2\n",
    "import tensorflow as tf\n",
    "from keras.callbacks import ModelCheckpoint\n",
    "from keras.layers import Conv2D, Flatten, MaxPooling2D,Dense,Dropout\n",
    "from keras.models  import Sequential\n",
    "from keras.preprocessing.image import ImageDataGenerator, img_to_array, load_img, array_to_img\n",
    "import random,os,glob\n",
    "import matplotlib.pyplot as plt\n",
    "import serial\n",
    "import time\n",
    "import threading"
   ]
  },
  {
   "cell_type": "code",
   "execution_count": null,
   "metadata": {},
   "outputs": [],
   "source": [
    "model = tf.keras.models.load_model(\"trained_model.h5\")"
   ]
  },
  {
   "cell_type": "code",
   "execution_count": null,
   "metadata": {},
   "outputs": [],
   "source": [
    "CATEGORIES = ['cardboard','glass','metal','paper','plastic','trash']"
   ]
  },
  {
   "cell_type": "code",
   "execution_count": null,
   "metadata": {},
   "outputs": [],
   "source": [
    "def predicti(img1):\n",
    "    predict_datagen = ImageDataGenerator(validation_split=0.1,rescale=1./255)\n",
    "\n",
    "    #img1 = cv2.imread(path)\n",
    "    img1 = cv2.resize(img1, (300, 300))\n",
    "    img1 = img1.reshape(1, 300, 300, -1)\n",
    "    print(img1.shape)\n",
    "\n",
    "    prediction = model.predict(img1)\n",
    "    print(prediction)\n",
    "    n=0\n",
    "    \n",
    "    for i in prediction[0]:\n",
    "        if i==1.0:\n",
    "            print(CATEGORIES[n])\n",
    "            t2 = threading.Thread(target=mapr, args=(n,))\n",
    "            t2.start()\n",
    "            t2.join()\n",
    "            #mapr(n)\n",
    "        n=n+1"
   ]
  },
  {
   "cell_type": "code",
   "execution_count": null,
   "metadata": {},
   "outputs": [],
   "source": []
  },
  {
   "cell_type": "code",
   "execution_count": null,
   "metadata": {},
   "outputs": [],
   "source": [
    "def mapr(n):\n",
    "    arduino = serial.Serial('COM3', 9600)                                         #Creates arduino object and establishes connection to port (Enter your port)\n",
    "    time.sleep(2)                                                                               #waits for connection to establish                                                                      #prints input\n",
    "    if(n == 0):                                                                                #if input is 1\n",
    "        arduino.write(b'0')                                                                          #sends '1' to arduino\n",
    "        print(\"Cardboard\")\n",
    "        time.sleep(1)\n",
    "    if(n == 1):                                                                                #if input is 1\n",
    "        arduino.write(b'1')                                                                          #sends '1' to arduino\n",
    "        print(\"Glass\")\n",
    "        time.sleep(1)\n",
    "    if(n == 2):                                                                                #if input is 1\n",
    "        arduino.write(b'2')                                                                          #sends '1' to arduino\n",
    "        print(\"Metal\")\n",
    "        time.sleep(1)\n",
    "    if(n == 3):                                                                                #if input is 1\n",
    "        arduino.write(b'3')                                                                          #sends '1' to arduino\n",
    "        print(\"Paper\")\n",
    "        time.sleep(1)\n",
    "    if(n == 4):                                                                                #if input is 1\n",
    "        arduino.write(b'4')                                                                          #sends '1' to arduino\n",
    "        print(\"Plastic\")\n",
    "        time.sleep(1)\n",
    "    if(n == 5):                                                                                #if input is 1\n",
    "        arduino.write(b'5')                                                                          #sends '1' to arduino\n",
    "        print(\"Trash\")"
   ]
  },
  {
   "cell_type": "code",
   "execution_count": null,
   "metadata": {},
   "outputs": [],
   "source": [
    "path='saved_img.jpg'"
   ]
  },
  {
   "cell_type": "code",
   "execution_count": null,
   "metadata": {},
   "outputs": [],
   "source": [
    "\n"
   ]
  },
  {
   "cell_type": "code",
   "execution_count": null,
   "metadata": {},
   "outputs": [],
   "source": []
  },
  {
   "cell_type": "code",
   "execution_count": null,
   "metadata": {
    "scrolled": false
   },
   "outputs": [],
   "source": [
    "cap = cv2.VideoCapture(0)\n",
    "\n",
    "while(True):\n",
    "    # Capture frame-by-frame\n",
    "    time.sleep(1)\n",
    "    ret, frame = cap.read()\n",
    "    #cv2.imwrite(filename='saved_img.jpg', img=frame)\n",
    "\n",
    "    # Our operations on the frame come here\n",
    "    #gray = cv2.cvtColor(frame, cv2.COLOR_BGR2GRAY)\n",
    "    #t1 = threading.Thread(target=predicti, args=(frame,)) \n",
    "    #t1.start()\n",
    "    #t1.join()\n",
    "    predicti(frame)\n",
    "    \n",
    "\n",
    "    # Display the resulting frame\n",
    "    cv2.imshow('frame',frame)\n",
    "    if cv2.waitKey(1) & 0xFF == ord('q'):\n",
    "        break\n",
    "\n",
    "# When everything done, release the capture\n",
    "cap.release()\n",
    "cv2.destroyAllWindows()\n"
   ]
  },
  {
   "cell_type": "code",
   "execution_count": null,
   "metadata": {},
   "outputs": [],
   "source": []
  }
 ],
 "metadata": {
  "kernelspec": {
   "display_name": "Python 3",
   "language": "python",
   "name": "python3"
  },
  "language_info": {
   "codemirror_mode": {
    "name": "ipython",
    "version": 3
   },
   "file_extension": ".py",
   "mimetype": "text/x-python",
   "name": "python",
   "nbconvert_exporter": "python",
   "pygments_lexer": "ipython3",
   "version": "3.6.9"
  }
 },
 "nbformat": 4,
 "nbformat_minor": 4
}
