{
 "cells": [
  {
   "cell_type": "code",
   "execution_count": 1,
   "metadata": {},
   "outputs": [
    {
     "name": "stderr",
     "output_type": "stream",
     "text": [
      "Using TensorFlow backend.\n"
     ]
    }
   ],
   "source": [
    "import numpy as np\n",
    "import cv2\n",
    "import tensorflow as tf\n",
    "from keras.callbacks import ModelCheckpoint\n",
    "from keras.layers import Conv2D, Flatten, MaxPooling2D,Dense,Dropout\n",
    "from keras.models  import Sequential\n",
    "from keras.preprocessing.image import ImageDataGenerator, img_to_array, load_img, array_to_img\n",
    "import random,os,glob\n",
    "import matplotlib.pyplot as plt\n",
    "import serial\n",
    "import time\n",
    "import threading"
   ]
  },
  {
   "cell_type": "code",
   "execution_count": 2,
   "metadata": {},
   "outputs": [
    {
     "name": "stdout",
     "output_type": "stream",
     "text": [
      "WARNING:tensorflow:From C:\\Users\\ADMIN\\Anaconda3\\envs\\tf\\lib\\site-packages\\tensorflow_core\\python\\ops\\resource_variable_ops.py:1630: calling BaseResourceVariable.__init__ (from tensorflow.python.ops.resource_variable_ops) with constraint is deprecated and will be removed in a future version.\n",
      "Instructions for updating:\n",
      "If using Keras pass *_constraint arguments to layers.\n"
     ]
    }
   ],
   "source": [
    "model = tf.keras.models.load_model(\"trained_model.h5\")"
   ]
  },
  {
   "cell_type": "code",
   "execution_count": 3,
   "metadata": {},
   "outputs": [],
   "source": [
    "CATEGORIES = ['cardboard','glass','metal','paper','plastic','trash']"
   ]
  },
  {
   "cell_type": "code",
   "execution_count": 4,
   "metadata": {},
   "outputs": [],
   "source": [
    "def predicti(img1):\n",
    "    predict_datagen = ImageDataGenerator(validation_split=0.1,rescale=1./255)\n",
    "    print(img1)\n",
    "    #cv2.imshow('frame',img1)\n",
    "    \n",
    "\n",
    "    #img1 = cv2.imread(path)\n",
    "    img1 = cv2.resize(img1, (300, 300))\n",
    "    img1 = img1.reshape(1, 300, 300, -1)\n",
    "    print(img1.shape)\n",
    "\n",
    "    prediction = model.predict(img1)\n",
    "    print(prediction)\n",
    "    #n=0\n",
    "    #for i in prediction[0]:\n",
    "    #    if i==1.0:\n",
    "    #        print(CATEGORIES[n])\n",
    "    #        mapr(n)\n",
    "    #    n=n+1"
   ]
  },
  {
   "cell_type": "code",
   "execution_count": null,
   "metadata": {},
   "outputs": [],
   "source": []
  },
  {
   "cell_type": "code",
   "execution_count": 5,
   "metadata": {},
   "outputs": [],
   "source": [
    "def mapr(n):\n",
    "    arduino = serial.Serial('COM3', 9600)                                         #Creates arduino object and establishes connection to port (Enter your port)\n",
    "    time.sleep(2)                                                                               #waits for connection to establish                                                                      #prints input\n",
    "    if(n == 0):                                                                                #if input is 1\n",
    "        arduino.write(b'0')                                                                          #sends '1' to arduino\n",
    "        print(\"Cardboard\")\n",
    "        time.sleep(1)\n",
    "    if(n == 1):                                                                                #if input is 1\n",
    "        arduino.write(b'1')                                                                          #sends '1' to arduino\n",
    "        print(\"Glass\")\n",
    "        time.sleep(1)\n",
    "    if(n == 2):                                                                                #if input is 1\n",
    "        arduino.write(b'2')                                                                          #sends '1' to arduino\n",
    "        print(\"Metal\")\n",
    "        time.sleep(1)\n",
    "    if(n == 3):                                                                                #if input is 1\n",
    "        arduino.write(b'3')                                                                          #sends '1' to arduino\n",
    "        print(\"Paper\")\n",
    "        time.sleep(1)\n",
    "    if(n == 4):                                                                                #if input is 1\n",
    "        arduino.write(b'4')                                                                          #sends '1' to arduino\n",
    "        print(\"Plastic\")\n",
    "        time.sleep(1)\n",
    "    if(n == 5):                                                                                #if input is 1\n",
    "        arduino.write(b'5')                                                                          #sends '1' to arduino\n",
    "        print(\"Trash\")"
   ]
  },
  {
   "cell_type": "code",
   "execution_count": 6,
   "metadata": {},
   "outputs": [],
   "source": [
    "path='saved_img.jpg'"
   ]
  },
  {
   "cell_type": "code",
   "execution_count": 7,
   "metadata": {},
   "outputs": [],
   "source": [
    "\n",
    "#t2 = threading.Thread(target=mapr, args=(n,))"
   ]
  },
  {
   "cell_type": "code",
   "execution_count": null,
   "metadata": {},
   "outputs": [],
   "source": []
  },
  {
   "cell_type": "code",
   "execution_count": null,
   "metadata": {
    "scrolled": false
   },
   "outputs": [
    {
     "name": "stdout",
     "output_type": "stream",
     "text": [
      "[[ 61  59  58 ... 115 114 114]\n",
      " [ 60  59  58 ... 114 114 114]\n",
      " [ 60  59  58 ... 114 114 114]\n",
      " ...\n",
      " [111 112 112 ...  38  38  38]\n",
      " [112 112 112 ...  38  39  38]\n",
      " [112 112 113 ...  38  38  39]]\n",
      "(300, 300)\n"
     ]
    },
    {
     "name": "stderr",
     "output_type": "stream",
     "text": [
      "Exception in thread Thread-6:\n",
      "Traceback (most recent call last):\n",
      "  File \"C:\\Users\\ADMIN\\Anaconda3\\envs\\tf\\lib\\threading.py\", line 916, in _bootstrap_inner\n",
      "    self.run()\n",
      "  File \"C:\\Users\\ADMIN\\Anaconda3\\envs\\tf\\lib\\threading.py\", line 864, in run\n",
      "    self._target(*self._args, **self._kwargs)\n",
      "  File \"<ipython-input-4-abf0d164e508>\", line 12, in predicti\n",
      "    prediction = model.predict(img1)\n",
      "  File \"C:\\Users\\ADMIN\\Anaconda3\\envs\\tf\\lib\\site-packages\\tensorflow_core\\python\\keras\\engine\\training.py\", line 908, in predict\n",
      "    use_multiprocessing=use_multiprocessing)\n",
      "  File \"C:\\Users\\ADMIN\\Anaconda3\\envs\\tf\\lib\\site-packages\\tensorflow_core\\python\\keras\\engine\\training_arrays.py\", line 716, in predict\n",
      "    x, check_steps=True, steps_name='steps', steps=steps)\n",
      "  File \"C:\\Users\\ADMIN\\Anaconda3\\envs\\tf\\lib\\site-packages\\tensorflow_core\\python\\keras\\engine\\training.py\", line 2471, in _standardize_user_data\n",
      "    exception_prefix='input')\n",
      "  File \"C:\\Users\\ADMIN\\Anaconda3\\envs\\tf\\lib\\site-packages\\tensorflow_core\\python\\keras\\engine\\training_utils.py\", line 563, in standardize_input_data\n",
      "    'with shape ' + str(data_shape))\n",
      "ValueError: Error when checking input: expected conv2d_1_input to have 4 dimensions, but got array with shape (300, 300)\n",
      "\n"
     ]
    },
    {
     "name": "stdout",
     "output_type": "stream",
     "text": [
      "[[ 73  73  73 ... 111 112 111]\n",
      " [ 72  73  73 ... 111 111 111]\n",
      " [ 72  73  73 ... 111 113 113]\n",
      " ...\n",
      " [103 103 103 ...  46  47  50]\n",
      " [102 103 105 ...  47  48  50]\n",
      " [104 104 105 ...  47  48  48]]\n",
      "(300, 300)\n"
     ]
    },
    {
     "name": "stderr",
     "output_type": "stream",
     "text": [
      "Exception in thread Thread-7:\n",
      "Traceback (most recent call last):\n",
      "  File \"C:\\Users\\ADMIN\\Anaconda3\\envs\\tf\\lib\\threading.py\", line 916, in _bootstrap_inner\n",
      "    self.run()\n",
      "  File \"C:\\Users\\ADMIN\\Anaconda3\\envs\\tf\\lib\\threading.py\", line 864, in run\n",
      "    self._target(*self._args, **self._kwargs)\n",
      "  File \"<ipython-input-4-abf0d164e508>\", line 12, in predicti\n",
      "    prediction = model.predict(img1)\n",
      "  File \"C:\\Users\\ADMIN\\Anaconda3\\envs\\tf\\lib\\site-packages\\tensorflow_core\\python\\keras\\engine\\training.py\", line 908, in predict\n",
      "    use_multiprocessing=use_multiprocessing)\n",
      "  File \"C:\\Users\\ADMIN\\Anaconda3\\envs\\tf\\lib\\site-packages\\tensorflow_core\\python\\keras\\engine\\training_arrays.py\", line 716, in predict\n",
      "    x, check_steps=True, steps_name='steps', steps=steps)\n",
      "  File \"C:\\Users\\ADMIN\\Anaconda3\\envs\\tf\\lib\\site-packages\\tensorflow_core\\python\\keras\\engine\\training.py\", line 2471, in _standardize_user_data\n",
      "    exception_prefix='input')\n",
      "  File \"C:\\Users\\ADMIN\\Anaconda3\\envs\\tf\\lib\\site-packages\\tensorflow_core\\python\\keras\\engine\\training_utils.py\", line 563, in standardize_input_data\n",
      "    'with shape ' + str(data_shape))\n",
      "ValueError: Error when checking input: expected conv2d_1_input to have 4 dimensions, but got array with shape (300, 300)\n",
      "\n"
     ]
    },
    {
     "name": "stdout",
     "output_type": "stream",
     "text": [
      "[[ 73  73  73 ... 111 111 110]\n",
      " [ 72  72  72 ... 111 111 110]\n",
      " [ 70  70  70 ... 111 110 109]\n",
      " ...\n",
      " [103 103 104 ...  70  72  73]\n",
      " [102 103 102 ...  65  67  72]\n",
      " [102 102 102 ...  61  66  69]]\n",
      "(300, 300)\n"
     ]
    },
    {
     "name": "stderr",
     "output_type": "stream",
     "text": [
      "Exception in thread Thread-8:\n",
      "Traceback (most recent call last):\n",
      "  File \"C:\\Users\\ADMIN\\Anaconda3\\envs\\tf\\lib\\threading.py\", line 916, in _bootstrap_inner\n",
      "    self.run()\n",
      "  File \"C:\\Users\\ADMIN\\Anaconda3\\envs\\tf\\lib\\threading.py\", line 864, in run\n",
      "    self._target(*self._args, **self._kwargs)\n",
      "  File \"<ipython-input-4-abf0d164e508>\", line 12, in predicti\n",
      "    prediction = model.predict(img1)\n",
      "  File \"C:\\Users\\ADMIN\\Anaconda3\\envs\\tf\\lib\\site-packages\\tensorflow_core\\python\\keras\\engine\\training.py\", line 908, in predict\n",
      "    use_multiprocessing=use_multiprocessing)\n",
      "  File \"C:\\Users\\ADMIN\\Anaconda3\\envs\\tf\\lib\\site-packages\\tensorflow_core\\python\\keras\\engine\\training_arrays.py\", line 716, in predict\n",
      "    x, check_steps=True, steps_name='steps', steps=steps)\n",
      "  File \"C:\\Users\\ADMIN\\Anaconda3\\envs\\tf\\lib\\site-packages\\tensorflow_core\\python\\keras\\engine\\training.py\", line 2471, in _standardize_user_data\n",
      "    exception_prefix='input')\n",
      "  File \"C:\\Users\\ADMIN\\Anaconda3\\envs\\tf\\lib\\site-packages\\tensorflow_core\\python\\keras\\engine\\training_utils.py\", line 563, in standardize_input_data\n",
      "    'with shape ' + str(data_shape))\n",
      "ValueError: Error when checking input: expected conv2d_1_input to have 4 dimensions, but got array with shape (300, 300)\n",
      "\n"
     ]
    },
    {
     "name": "stdout",
     "output_type": "stream",
     "text": [
      "[[ 72  71  71 ... 114 112 112]\n",
      " [ 71  71  71 ... 113 111 111]\n",
      " [ 73  72  72 ... 111 110 111]\n",
      " ...\n",
      " [104 106 105 ...  60  61  62]\n",
      " [104 108 106 ...  58  59  61]\n",
      " [104 106 105 ...  57  59  60]]\n",
      "(300, 300)\n"
     ]
    },
    {
     "name": "stderr",
     "output_type": "stream",
     "text": [
      "Exception in thread Thread-9:\n",
      "Traceback (most recent call last):\n",
      "  File \"C:\\Users\\ADMIN\\Anaconda3\\envs\\tf\\lib\\threading.py\", line 916, in _bootstrap_inner\n",
      "    self.run()\n",
      "  File \"C:\\Users\\ADMIN\\Anaconda3\\envs\\tf\\lib\\threading.py\", line 864, in run\n",
      "    self._target(*self._args, **self._kwargs)\n",
      "  File \"<ipython-input-4-abf0d164e508>\", line 12, in predicti\n",
      "    prediction = model.predict(img1)\n",
      "  File \"C:\\Users\\ADMIN\\Anaconda3\\envs\\tf\\lib\\site-packages\\tensorflow_core\\python\\keras\\engine\\training.py\", line 908, in predict\n",
      "    use_multiprocessing=use_multiprocessing)\n",
      "  File \"C:\\Users\\ADMIN\\Anaconda3\\envs\\tf\\lib\\site-packages\\tensorflow_core\\python\\keras\\engine\\training_arrays.py\", line 716, in predict\n",
      "    x, check_steps=True, steps_name='steps', steps=steps)\n",
      "  File \"C:\\Users\\ADMIN\\Anaconda3\\envs\\tf\\lib\\site-packages\\tensorflow_core\\python\\keras\\engine\\training.py\", line 2471, in _standardize_user_data\n",
      "    exception_prefix='input')\n",
      "  File \"C:\\Users\\ADMIN\\Anaconda3\\envs\\tf\\lib\\site-packages\\tensorflow_core\\python\\keras\\engine\\training_utils.py\", line 563, in standardize_input_data\n",
      "    'with shape ' + str(data_shape))\n",
      "ValueError: Error when checking input: expected conv2d_1_input to have 4 dimensions, but got array with shape (300, 300)\n",
      "\n"
     ]
    },
    {
     "name": "stdout",
     "output_type": "stream",
     "text": [
      "[[ 72  72  72 ... 114 111 111]\n",
      " [ 73  73  73 ... 113 113 111]\n",
      " [ 73  72  72 ... 113 113 111]\n",
      " ...\n",
      " [103 104 104 ...  81  80  81]\n",
      " [102 103 103 ...  80  80  81]\n",
      " [101 101 102 ...  80  80  79]]\n",
      "(300, 300)\n"
     ]
    },
    {
     "name": "stderr",
     "output_type": "stream",
     "text": [
      "Exception in thread Thread-10:\n",
      "Traceback (most recent call last):\n",
      "  File \"C:\\Users\\ADMIN\\Anaconda3\\envs\\tf\\lib\\threading.py\", line 916, in _bootstrap_inner\n",
      "    self.run()\n",
      "  File \"C:\\Users\\ADMIN\\Anaconda3\\envs\\tf\\lib\\threading.py\", line 864, in run\n",
      "    self._target(*self._args, **self._kwargs)\n",
      "  File \"<ipython-input-4-abf0d164e508>\", line 12, in predicti\n",
      "    prediction = model.predict(img1)\n",
      "  File \"C:\\Users\\ADMIN\\Anaconda3\\envs\\tf\\lib\\site-packages\\tensorflow_core\\python\\keras\\engine\\training.py\", line 908, in predict\n",
      "    use_multiprocessing=use_multiprocessing)\n",
      "  File \"C:\\Users\\ADMIN\\Anaconda3\\envs\\tf\\lib\\site-packages\\tensorflow_core\\python\\keras\\engine\\training_arrays.py\", line 716, in predict\n",
      "    x, check_steps=True, steps_name='steps', steps=steps)\n",
      "  File \"C:\\Users\\ADMIN\\Anaconda3\\envs\\tf\\lib\\site-packages\\tensorflow_core\\python\\keras\\engine\\training.py\", line 2471, in _standardize_user_data\n",
      "    exception_prefix='input')\n",
      "  File \"C:\\Users\\ADMIN\\Anaconda3\\envs\\tf\\lib\\site-packages\\tensorflow_core\\python\\keras\\engine\\training_utils.py\", line 563, in standardize_input_data\n",
      "    'with shape ' + str(data_shape))\n",
      "ValueError: Error when checking input: expected conv2d_1_input to have 4 dimensions, but got array with shape (300, 300)\n",
      "\n"
     ]
    },
    {
     "name": "stdout",
     "output_type": "stream",
     "text": [
      "[[ 69  68  68 ... 114 113 111]\n",
      " [ 71  71  71 ... 113 111 110]\n",
      " [ 74  73  72 ... 114 111 110]\n",
      " ...\n",
      " [103 102 102 ...  79  82  77]\n",
      " [104 103 102 ...  77  79  82]\n",
      " [104 103 104 ...  79  79  82]]\n",
      "(300, 300)\n"
     ]
    },
    {
     "name": "stderr",
     "output_type": "stream",
     "text": [
      "Exception in thread Thread-11:\n",
      "Traceback (most recent call last):\n",
      "  File \"C:\\Users\\ADMIN\\Anaconda3\\envs\\tf\\lib\\threading.py\", line 916, in _bootstrap_inner\n",
      "    self.run()\n",
      "  File \"C:\\Users\\ADMIN\\Anaconda3\\envs\\tf\\lib\\threading.py\", line 864, in run\n",
      "    self._target(*self._args, **self._kwargs)\n",
      "  File \"<ipython-input-4-abf0d164e508>\", line 12, in predicti\n",
      "    prediction = model.predict(img1)\n",
      "  File \"C:\\Users\\ADMIN\\Anaconda3\\envs\\tf\\lib\\site-packages\\tensorflow_core\\python\\keras\\engine\\training.py\", line 908, in predict\n",
      "    use_multiprocessing=use_multiprocessing)\n",
      "  File \"C:\\Users\\ADMIN\\Anaconda3\\envs\\tf\\lib\\site-packages\\tensorflow_core\\python\\keras\\engine\\training_arrays.py\", line 716, in predict\n",
      "    x, check_steps=True, steps_name='steps', steps=steps)\n",
      "  File \"C:\\Users\\ADMIN\\Anaconda3\\envs\\tf\\lib\\site-packages\\tensorflow_core\\python\\keras\\engine\\training.py\", line 2471, in _standardize_user_data\n",
      "    exception_prefix='input')\n",
      "  File \"C:\\Users\\ADMIN\\Anaconda3\\envs\\tf\\lib\\site-packages\\tensorflow_core\\python\\keras\\engine\\training_utils.py\", line 563, in standardize_input_data\n",
      "    'with shape ' + str(data_shape))\n",
      "ValueError: Error when checking input: expected conv2d_1_input to have 4 dimensions, but got array with shape (300, 300)\n",
      "\n"
     ]
    },
    {
     "name": "stdout",
     "output_type": "stream",
     "text": [
      "[[ 72  73  73 ... 110 110 110]\n",
      " [ 72  73  73 ... 111 110 110]\n",
      " [ 72  73  74 ... 110 110 110]\n",
      " ...\n",
      " [103 103 104 ...  68  66  63]\n",
      " [103 105 105 ...  67  65  62]\n",
      " [104 105 105 ...  67  65  64]]\n",
      "(300, 300)\n"
     ]
    },
    {
     "name": "stderr",
     "output_type": "stream",
     "text": [
      "Exception in thread Thread-12:\n",
      "Traceback (most recent call last):\n",
      "  File \"C:\\Users\\ADMIN\\Anaconda3\\envs\\tf\\lib\\threading.py\", line 916, in _bootstrap_inner\n",
      "    self.run()\n",
      "  File \"C:\\Users\\ADMIN\\Anaconda3\\envs\\tf\\lib\\threading.py\", line 864, in run\n",
      "    self._target(*self._args, **self._kwargs)\n",
      "  File \"<ipython-input-4-abf0d164e508>\", line 12, in predicti\n",
      "    prediction = model.predict(img1)\n",
      "  File \"C:\\Users\\ADMIN\\Anaconda3\\envs\\tf\\lib\\site-packages\\tensorflow_core\\python\\keras\\engine\\training.py\", line 908, in predict\n",
      "    use_multiprocessing=use_multiprocessing)\n",
      "  File \"C:\\Users\\ADMIN\\Anaconda3\\envs\\tf\\lib\\site-packages\\tensorflow_core\\python\\keras\\engine\\training_arrays.py\", line 716, in predict\n",
      "    x, check_steps=True, steps_name='steps', steps=steps)\n",
      "  File \"C:\\Users\\ADMIN\\Anaconda3\\envs\\tf\\lib\\site-packages\\tensorflow_core\\python\\keras\\engine\\training.py\", line 2471, in _standardize_user_data\n",
      "    exception_prefix='input')\n",
      "  File \"C:\\Users\\ADMIN\\Anaconda3\\envs\\tf\\lib\\site-packages\\tensorflow_core\\python\\keras\\engine\\training_utils.py\", line 563, in standardize_input_data\n",
      "    'with shape ' + str(data_shape))\n",
      "ValueError: Error when checking input: expected conv2d_1_input to have 4 dimensions, but got array with shape (300, 300)\n",
      "\n"
     ]
    },
    {
     "name": "stdout",
     "output_type": "stream",
     "text": [
      "[[ 72  71  72 ... 111 109 109]\n",
      " [ 72  73  73 ... 111 109 109]\n",
      " [ 73  74  74 ... 110 109 110]\n",
      " ...\n",
      " [103 104 104 ...  43  44  45]\n",
      " [104 105 105 ...  41  43  45]\n",
      " [104 104 103 ...  43  43  45]]\n",
      "(300, 300)\n"
     ]
    },
    {
     "name": "stderr",
     "output_type": "stream",
     "text": [
      "Exception in thread Thread-13:\n",
      "Traceback (most recent call last):\n",
      "  File \"C:\\Users\\ADMIN\\Anaconda3\\envs\\tf\\lib\\threading.py\", line 916, in _bootstrap_inner\n",
      "    self.run()\n",
      "  File \"C:\\Users\\ADMIN\\Anaconda3\\envs\\tf\\lib\\threading.py\", line 864, in run\n",
      "    self._target(*self._args, **self._kwargs)\n",
      "  File \"<ipython-input-4-abf0d164e508>\", line 12, in predicti\n",
      "    prediction = model.predict(img1)\n",
      "  File \"C:\\Users\\ADMIN\\Anaconda3\\envs\\tf\\lib\\site-packages\\tensorflow_core\\python\\keras\\engine\\training.py\", line 908, in predict\n",
      "    use_multiprocessing=use_multiprocessing)\n",
      "  File \"C:\\Users\\ADMIN\\Anaconda3\\envs\\tf\\lib\\site-packages\\tensorflow_core\\python\\keras\\engine\\training_arrays.py\", line 716, in predict\n",
      "    x, check_steps=True, steps_name='steps', steps=steps)\n",
      "  File \"C:\\Users\\ADMIN\\Anaconda3\\envs\\tf\\lib\\site-packages\\tensorflow_core\\python\\keras\\engine\\training.py\", line 2471, in _standardize_user_data\n",
      "    exception_prefix='input')\n",
      "  File \"C:\\Users\\ADMIN\\Anaconda3\\envs\\tf\\lib\\site-packages\\tensorflow_core\\python\\keras\\engine\\training_utils.py\", line 563, in standardize_input_data\n",
      "    'with shape ' + str(data_shape))\n",
      "ValueError: Error when checking input: expected conv2d_1_input to have 4 dimensions, but got array with shape (300, 300)\n",
      "\n"
     ]
    },
    {
     "name": "stdout",
     "output_type": "stream",
     "text": [
      "[[ 73  72  72 ... 114 113 113]\n",
      " [ 73  73  72 ... 114 111 111]\n",
      " [ 74  74  73 ... 114 110 110]\n",
      " ...\n",
      " [103 104 103 ...  51  53  54]\n",
      " [103 104 103 ...  47  50  51]\n",
      " [103 103 103 ...  45  47  48]]\n",
      "(300, 300)\n"
     ]
    },
    {
     "name": "stderr",
     "output_type": "stream",
     "text": [
      "Exception in thread Thread-14:\n",
      "Traceback (most recent call last):\n",
      "  File \"C:\\Users\\ADMIN\\Anaconda3\\envs\\tf\\lib\\threading.py\", line 916, in _bootstrap_inner\n",
      "    self.run()\n",
      "  File \"C:\\Users\\ADMIN\\Anaconda3\\envs\\tf\\lib\\threading.py\", line 864, in run\n",
      "    self._target(*self._args, **self._kwargs)\n",
      "  File \"<ipython-input-4-abf0d164e508>\", line 12, in predicti\n",
      "    prediction = model.predict(img1)\n",
      "  File \"C:\\Users\\ADMIN\\Anaconda3\\envs\\tf\\lib\\site-packages\\tensorflow_core\\python\\keras\\engine\\training.py\", line 908, in predict\n",
      "    use_multiprocessing=use_multiprocessing)\n",
      "  File \"C:\\Users\\ADMIN\\Anaconda3\\envs\\tf\\lib\\site-packages\\tensorflow_core\\python\\keras\\engine\\training_arrays.py\", line 716, in predict\n",
      "    x, check_steps=True, steps_name='steps', steps=steps)\n",
      "  File \"C:\\Users\\ADMIN\\Anaconda3\\envs\\tf\\lib\\site-packages\\tensorflow_core\\python\\keras\\engine\\training.py\", line 2471, in _standardize_user_data\n",
      "    exception_prefix='input')\n",
      "  File \"C:\\Users\\ADMIN\\Anaconda3\\envs\\tf\\lib\\site-packages\\tensorflow_core\\python\\keras\\engine\\training_utils.py\", line 563, in standardize_input_data\n",
      "    'with shape ' + str(data_shape))\n",
      "ValueError: Error when checking input: expected conv2d_1_input to have 4 dimensions, but got array with shape (300, 300)\n",
      "\n"
     ]
    },
    {
     "name": "stdout",
     "output_type": "stream",
     "text": [
      "[[ 73  72  71 ... 112 112 112]\n",
      " [ 72  72  72 ... 111 112 112]\n",
      " [ 73  73  73 ... 110 110 110]\n",
      " ...\n",
      " [105 105 104 ...  44  44  43]\n",
      " [105 104 104 ...  44  44  44]\n",
      " [104 103 103 ...  45  46  46]]\n",
      "(300, 300)\n"
     ]
    },
    {
     "name": "stderr",
     "output_type": "stream",
     "text": [
      "Exception in thread Thread-15:\n",
      "Traceback (most recent call last):\n",
      "  File \"C:\\Users\\ADMIN\\Anaconda3\\envs\\tf\\lib\\threading.py\", line 916, in _bootstrap_inner\n",
      "    self.run()\n",
      "  File \"C:\\Users\\ADMIN\\Anaconda3\\envs\\tf\\lib\\threading.py\", line 864, in run\n",
      "    self._target(*self._args, **self._kwargs)\n",
      "  File \"<ipython-input-4-abf0d164e508>\", line 12, in predicti\n",
      "    prediction = model.predict(img1)\n",
      "  File \"C:\\Users\\ADMIN\\Anaconda3\\envs\\tf\\lib\\site-packages\\tensorflow_core\\python\\keras\\engine\\training.py\", line 908, in predict\n",
      "    use_multiprocessing=use_multiprocessing)\n",
      "  File \"C:\\Users\\ADMIN\\Anaconda3\\envs\\tf\\lib\\site-packages\\tensorflow_core\\python\\keras\\engine\\training_arrays.py\", line 716, in predict\n",
      "    x, check_steps=True, steps_name='steps', steps=steps)\n",
      "  File \"C:\\Users\\ADMIN\\Anaconda3\\envs\\tf\\lib\\site-packages\\tensorflow_core\\python\\keras\\engine\\training.py\", line 2471, in _standardize_user_data\n",
      "    exception_prefix='input')\n",
      "  File \"C:\\Users\\ADMIN\\Anaconda3\\envs\\tf\\lib\\site-packages\\tensorflow_core\\python\\keras\\engine\\training_utils.py\", line 563, in standardize_input_data\n",
      "    'with shape ' + str(data_shape))\n",
      "ValueError: Error when checking input: expected conv2d_1_input to have 4 dimensions, but got array with shape (300, 300)\n",
      "\n"
     ]
    },
    {
     "name": "stdout",
     "output_type": "stream",
     "text": [
      "[[ 71  72  72 ... 111 111 111]\n",
      " [ 71  72  72 ... 112 111 111]\n",
      " [ 72  73  73 ... 112 111 110]\n",
      " ...\n",
      " [103 103 103 ...  39  39  39]\n",
      " [103 103 102 ...  37  37  37]\n",
      " [102 102 102 ...  36  36  37]]\n",
      "(300, 300)\n"
     ]
    },
    {
     "name": "stderr",
     "output_type": "stream",
     "text": [
      "Exception in thread Thread-16:\n",
      "Traceback (most recent call last):\n",
      "  File \"C:\\Users\\ADMIN\\Anaconda3\\envs\\tf\\lib\\threading.py\", line 916, in _bootstrap_inner\n",
      "    self.run()\n",
      "  File \"C:\\Users\\ADMIN\\Anaconda3\\envs\\tf\\lib\\threading.py\", line 864, in run\n",
      "    self._target(*self._args, **self._kwargs)\n",
      "  File \"<ipython-input-4-abf0d164e508>\", line 12, in predicti\n",
      "    prediction = model.predict(img1)\n",
      "  File \"C:\\Users\\ADMIN\\Anaconda3\\envs\\tf\\lib\\site-packages\\tensorflow_core\\python\\keras\\engine\\training.py\", line 908, in predict\n",
      "    use_multiprocessing=use_multiprocessing)\n",
      "  File \"C:\\Users\\ADMIN\\Anaconda3\\envs\\tf\\lib\\site-packages\\tensorflow_core\\python\\keras\\engine\\training_arrays.py\", line 716, in predict\n",
      "    x, check_steps=True, steps_name='steps', steps=steps)\n",
      "  File \"C:\\Users\\ADMIN\\Anaconda3\\envs\\tf\\lib\\site-packages\\tensorflow_core\\python\\keras\\engine\\training.py\", line 2471, in _standardize_user_data\n",
      "    exception_prefix='input')\n",
      "  File \"C:\\Users\\ADMIN\\Anaconda3\\envs\\tf\\lib\\site-packages\\tensorflow_core\\python\\keras\\engine\\training_utils.py\", line 563, in standardize_input_data\n",
      "    'with shape ' + str(data_shape))\n",
      "ValueError: Error when checking input: expected conv2d_1_input to have 4 dimensions, but got array with shape (300, 300)\n",
      "\n"
     ]
    },
    {
     "name": "stdout",
     "output_type": "stream",
     "text": [
      "[[ 73  72  72 ... 112 111 111]\n",
      " [ 72  73  73 ... 113 112 112]\n",
      " [ 74  75  75 ... 113 112 111]\n",
      " ...\n",
      " [104 104 105 ...  47  47  48]\n",
      " [104 103 104 ...  48  48  48]\n",
      " [104 103 104 ...  47  48  48]]\n",
      "(300, 300)\n"
     ]
    },
    {
     "name": "stderr",
     "output_type": "stream",
     "text": [
      "Exception in thread Thread-17:\n",
      "Traceback (most recent call last):\n",
      "  File \"C:\\Users\\ADMIN\\Anaconda3\\envs\\tf\\lib\\threading.py\", line 916, in _bootstrap_inner\n",
      "    self.run()\n",
      "  File \"C:\\Users\\ADMIN\\Anaconda3\\envs\\tf\\lib\\threading.py\", line 864, in run\n",
      "    self._target(*self._args, **self._kwargs)\n",
      "  File \"<ipython-input-4-abf0d164e508>\", line 12, in predicti\n",
      "    prediction = model.predict(img1)\n",
      "  File \"C:\\Users\\ADMIN\\Anaconda3\\envs\\tf\\lib\\site-packages\\tensorflow_core\\python\\keras\\engine\\training.py\", line 908, in predict\n",
      "    use_multiprocessing=use_multiprocessing)\n",
      "  File \"C:\\Users\\ADMIN\\Anaconda3\\envs\\tf\\lib\\site-packages\\tensorflow_core\\python\\keras\\engine\\training_arrays.py\", line 716, in predict\n",
      "    x, check_steps=True, steps_name='steps', steps=steps)\n",
      "  File \"C:\\Users\\ADMIN\\Anaconda3\\envs\\tf\\lib\\site-packages\\tensorflow_core\\python\\keras\\engine\\training.py\", line 2471, in _standardize_user_data\n",
      "    exception_prefix='input')\n",
      "  File \"C:\\Users\\ADMIN\\Anaconda3\\envs\\tf\\lib\\site-packages\\tensorflow_core\\python\\keras\\engine\\training_utils.py\", line 563, in standardize_input_data\n",
      "    'with shape ' + str(data_shape))\n",
      "ValueError: Error when checking input: expected conv2d_1_input to have 4 dimensions, but got array with shape (300, 300)\n",
      "\n"
     ]
    },
    {
     "name": "stdout",
     "output_type": "stream",
     "text": [
      "[[ 73  71  71 ... 112 112 111]\n",
      " [ 73  73  73 ... 114 112 111]\n",
      " [ 74  74  74 ... 114 112 111]\n",
      " ...\n",
      " [102 103 103 ...  47  45  45]\n",
      " [102 103 102 ...  47  47  45]\n",
      " [104 104 104 ...  46  45  46]]\n",
      "(300, 300)\n"
     ]
    },
    {
     "name": "stderr",
     "output_type": "stream",
     "text": [
      "Exception in thread Thread-18:\n",
      "Traceback (most recent call last):\n",
      "  File \"C:\\Users\\ADMIN\\Anaconda3\\envs\\tf\\lib\\threading.py\", line 916, in _bootstrap_inner\n",
      "    self.run()\n",
      "  File \"C:\\Users\\ADMIN\\Anaconda3\\envs\\tf\\lib\\threading.py\", line 864, in run\n",
      "    self._target(*self._args, **self._kwargs)\n",
      "  File \"<ipython-input-4-abf0d164e508>\", line 12, in predicti\n",
      "    prediction = model.predict(img1)\n",
      "  File \"C:\\Users\\ADMIN\\Anaconda3\\envs\\tf\\lib\\site-packages\\tensorflow_core\\python\\keras\\engine\\training.py\", line 908, in predict\n",
      "    use_multiprocessing=use_multiprocessing)\n",
      "  File \"C:\\Users\\ADMIN\\Anaconda3\\envs\\tf\\lib\\site-packages\\tensorflow_core\\python\\keras\\engine\\training_arrays.py\", line 716, in predict\n",
      "    x, check_steps=True, steps_name='steps', steps=steps)\n",
      "  File \"C:\\Users\\ADMIN\\Anaconda3\\envs\\tf\\lib\\site-packages\\tensorflow_core\\python\\keras\\engine\\training.py\", line 2471, in _standardize_user_data\n",
      "    exception_prefix='input')\n",
      "  File \"C:\\Users\\ADMIN\\Anaconda3\\envs\\tf\\lib\\site-packages\\tensorflow_core\\python\\keras\\engine\\training_utils.py\", line 563, in standardize_input_data\n",
      "    'with shape ' + str(data_shape))\n",
      "ValueError: Error when checking input: expected conv2d_1_input to have 4 dimensions, but got array with shape (300, 300)\n",
      "\n"
     ]
    },
    {
     "name": "stdout",
     "output_type": "stream",
     "text": [
      "[[ 73  72  72 ... 111 112 112]\n",
      " [ 72  72  72 ... 111 110 111]\n",
      " [ 72  73  73 ... 111 110 111]\n",
      " ...\n",
      " [102 103 103 ...  52  51  51]\n",
      " [102 102 102 ...  52  52  51]\n",
      " [102 102 102 ...  52  52  51]]\n",
      "(300, 300)\n"
     ]
    },
    {
     "name": "stderr",
     "output_type": "stream",
     "text": [
      "Exception in thread Thread-19:\n",
      "Traceback (most recent call last):\n",
      "  File \"C:\\Users\\ADMIN\\Anaconda3\\envs\\tf\\lib\\threading.py\", line 916, in _bootstrap_inner\n",
      "    self.run()\n",
      "  File \"C:\\Users\\ADMIN\\Anaconda3\\envs\\tf\\lib\\threading.py\", line 864, in run\n",
      "    self._target(*self._args, **self._kwargs)\n",
      "  File \"<ipython-input-4-abf0d164e508>\", line 12, in predicti\n",
      "    prediction = model.predict(img1)\n",
      "  File \"C:\\Users\\ADMIN\\Anaconda3\\envs\\tf\\lib\\site-packages\\tensorflow_core\\python\\keras\\engine\\training.py\", line 908, in predict\n",
      "    use_multiprocessing=use_multiprocessing)\n",
      "  File \"C:\\Users\\ADMIN\\Anaconda3\\envs\\tf\\lib\\site-packages\\tensorflow_core\\python\\keras\\engine\\training_arrays.py\", line 716, in predict\n",
      "    x, check_steps=True, steps_name='steps', steps=steps)\n",
      "  File \"C:\\Users\\ADMIN\\Anaconda3\\envs\\tf\\lib\\site-packages\\tensorflow_core\\python\\keras\\engine\\training.py\", line 2471, in _standardize_user_data\n",
      "    exception_prefix='input')\n",
      "  File \"C:\\Users\\ADMIN\\Anaconda3\\envs\\tf\\lib\\site-packages\\tensorflow_core\\python\\keras\\engine\\training_utils.py\", line 563, in standardize_input_data\n",
      "    'with shape ' + str(data_shape))\n",
      "ValueError: Error when checking input: expected conv2d_1_input to have 4 dimensions, but got array with shape (300, 300)\n",
      "\n"
     ]
    },
    {
     "name": "stdout",
     "output_type": "stream",
     "text": [
      "[[ 71  72  72 ... 113 111 109]\n",
      " [ 72  72  72 ... 111 110 109]\n",
      " [ 72  72  74 ... 111 111 111]\n",
      " ...\n",
      " [102 102 103 ...  57  55  52]\n",
      " [103 103 103 ...  52  48  48]\n",
      " [104 103 103 ...  50  48  47]]\n",
      "(300, 300)\n"
     ]
    },
    {
     "name": "stderr",
     "output_type": "stream",
     "text": [
      "Exception in thread Thread-20:\n",
      "Traceback (most recent call last):\n",
      "  File \"C:\\Users\\ADMIN\\Anaconda3\\envs\\tf\\lib\\threading.py\", line 916, in _bootstrap_inner\n",
      "    self.run()\n",
      "  File \"C:\\Users\\ADMIN\\Anaconda3\\envs\\tf\\lib\\threading.py\", line 864, in run\n",
      "    self._target(*self._args, **self._kwargs)\n",
      "  File \"<ipython-input-4-abf0d164e508>\", line 12, in predicti\n",
      "    prediction = model.predict(img1)\n",
      "  File \"C:\\Users\\ADMIN\\Anaconda3\\envs\\tf\\lib\\site-packages\\tensorflow_core\\python\\keras\\engine\\training.py\", line 908, in predict\n",
      "    use_multiprocessing=use_multiprocessing)\n",
      "  File \"C:\\Users\\ADMIN\\Anaconda3\\envs\\tf\\lib\\site-packages\\tensorflow_core\\python\\keras\\engine\\training_arrays.py\", line 716, in predict\n",
      "    x, check_steps=True, steps_name='steps', steps=steps)\n",
      "  File \"C:\\Users\\ADMIN\\Anaconda3\\envs\\tf\\lib\\site-packages\\tensorflow_core\\python\\keras\\engine\\training.py\", line 2471, in _standardize_user_data\n",
      "    exception_prefix='input')\n",
      "  File \"C:\\Users\\ADMIN\\Anaconda3\\envs\\tf\\lib\\site-packages\\tensorflow_core\\python\\keras\\engine\\training_utils.py\", line 563, in standardize_input_data\n",
      "    'with shape ' + str(data_shape))\n",
      "ValueError: Error when checking input: expected conv2d_1_input to have 4 dimensions, but got array with shape (300, 300)\n",
      "\n"
     ]
    },
    {
     "name": "stdout",
     "output_type": "stream",
     "text": [
      "[[ 73  73  73 ... 111 113 113]\n",
      " [ 73  74  73 ... 112 113 113]\n",
      " [ 73  74  74 ... 112 114 114]\n",
      " ...\n",
      " [103 102 103 ...  53  52  52]\n",
      " [101 101 102 ...  51  48  50]\n",
      " [102 101 101 ...  50  47  47]]\n",
      "(300, 300)\n"
     ]
    },
    {
     "name": "stderr",
     "output_type": "stream",
     "text": [
      "Exception in thread Thread-21:\n",
      "Traceback (most recent call last):\n",
      "  File \"C:\\Users\\ADMIN\\Anaconda3\\envs\\tf\\lib\\threading.py\", line 916, in _bootstrap_inner\n",
      "    self.run()\n",
      "  File \"C:\\Users\\ADMIN\\Anaconda3\\envs\\tf\\lib\\threading.py\", line 864, in run\n",
      "    self._target(*self._args, **self._kwargs)\n",
      "  File \"<ipython-input-4-abf0d164e508>\", line 12, in predicti\n",
      "    prediction = model.predict(img1)\n",
      "  File \"C:\\Users\\ADMIN\\Anaconda3\\envs\\tf\\lib\\site-packages\\tensorflow_core\\python\\keras\\engine\\training.py\", line 908, in predict\n",
      "    use_multiprocessing=use_multiprocessing)\n",
      "  File \"C:\\Users\\ADMIN\\Anaconda3\\envs\\tf\\lib\\site-packages\\tensorflow_core\\python\\keras\\engine\\training_arrays.py\", line 716, in predict\n",
      "    x, check_steps=True, steps_name='steps', steps=steps)\n",
      "  File \"C:\\Users\\ADMIN\\Anaconda3\\envs\\tf\\lib\\site-packages\\tensorflow_core\\python\\keras\\engine\\training.py\", line 2471, in _standardize_user_data\n",
      "    exception_prefix='input')\n",
      "  File \"C:\\Users\\ADMIN\\Anaconda3\\envs\\tf\\lib\\site-packages\\tensorflow_core\\python\\keras\\engine\\training_utils.py\", line 563, in standardize_input_data\n",
      "    'with shape ' + str(data_shape))\n",
      "ValueError: Error when checking input: expected conv2d_1_input to have 4 dimensions, but got array with shape (300, 300)\n",
      "\n"
     ]
    },
    {
     "name": "stdout",
     "output_type": "stream",
     "text": [
      "[[ 73  72  72 ... 114 114 113]\n",
      " [ 73  72  72 ... 114 113 111]\n",
      " [ 73  73  72 ... 113 111 110]\n",
      " ...\n",
      " [102 103 102 ...  82  83  84]\n",
      " [102 102 102 ...  82  83  84]\n",
      " [102 102 101 ...  83  83  83]]\n",
      "(300, 300)\n"
     ]
    },
    {
     "name": "stderr",
     "output_type": "stream",
     "text": [
      "Exception in thread Thread-22:\n",
      "Traceback (most recent call last):\n",
      "  File \"C:\\Users\\ADMIN\\Anaconda3\\envs\\tf\\lib\\threading.py\", line 916, in _bootstrap_inner\n",
      "    self.run()\n",
      "  File \"C:\\Users\\ADMIN\\Anaconda3\\envs\\tf\\lib\\threading.py\", line 864, in run\n",
      "    self._target(*self._args, **self._kwargs)\n",
      "  File \"<ipython-input-4-abf0d164e508>\", line 12, in predicti\n",
      "    prediction = model.predict(img1)\n",
      "  File \"C:\\Users\\ADMIN\\Anaconda3\\envs\\tf\\lib\\site-packages\\tensorflow_core\\python\\keras\\engine\\training.py\", line 908, in predict\n",
      "    use_multiprocessing=use_multiprocessing)\n",
      "  File \"C:\\Users\\ADMIN\\Anaconda3\\envs\\tf\\lib\\site-packages\\tensorflow_core\\python\\keras\\engine\\training_arrays.py\", line 716, in predict\n",
      "    x, check_steps=True, steps_name='steps', steps=steps)\n",
      "  File \"C:\\Users\\ADMIN\\Anaconda3\\envs\\tf\\lib\\site-packages\\tensorflow_core\\python\\keras\\engine\\training.py\", line 2471, in _standardize_user_data\n",
      "    exception_prefix='input')\n",
      "  File \"C:\\Users\\ADMIN\\Anaconda3\\envs\\tf\\lib\\site-packages\\tensorflow_core\\python\\keras\\engine\\training_utils.py\", line 563, in standardize_input_data\n",
      "    'with shape ' + str(data_shape))\n",
      "ValueError: Error when checking input: expected conv2d_1_input to have 4 dimensions, but got array with shape (300, 300)\n",
      "\n"
     ]
    },
    {
     "name": "stdout",
     "output_type": "stream",
     "text": [
      "[[ 72  72  72 ... 114 114 112]\n",
      " [ 72  71  71 ... 114 112 112]\n",
      " [ 72  71  72 ... 114 112 114]\n",
      " ...\n",
      " [103 104 103 ...  80  81  81]\n",
      " [103 104 103 ...  80  81  81]\n",
      " [102 102 101 ...  80  81  82]]\n",
      "(300, 300)\n"
     ]
    },
    {
     "name": "stderr",
     "output_type": "stream",
     "text": [
      "Exception in thread Thread-23:\n",
      "Traceback (most recent call last):\n",
      "  File \"C:\\Users\\ADMIN\\Anaconda3\\envs\\tf\\lib\\threading.py\", line 916, in _bootstrap_inner\n",
      "    self.run()\n",
      "  File \"C:\\Users\\ADMIN\\Anaconda3\\envs\\tf\\lib\\threading.py\", line 864, in run\n",
      "    self._target(*self._args, **self._kwargs)\n",
      "  File \"<ipython-input-4-abf0d164e508>\", line 12, in predicti\n",
      "    prediction = model.predict(img1)\n",
      "  File \"C:\\Users\\ADMIN\\Anaconda3\\envs\\tf\\lib\\site-packages\\tensorflow_core\\python\\keras\\engine\\training.py\", line 908, in predict\n",
      "    use_multiprocessing=use_multiprocessing)\n",
      "  File \"C:\\Users\\ADMIN\\Anaconda3\\envs\\tf\\lib\\site-packages\\tensorflow_core\\python\\keras\\engine\\training_arrays.py\", line 716, in predict\n",
      "    x, check_steps=True, steps_name='steps', steps=steps)\n",
      "  File \"C:\\Users\\ADMIN\\Anaconda3\\envs\\tf\\lib\\site-packages\\tensorflow_core\\python\\keras\\engine\\training.py\", line 2471, in _standardize_user_data\n",
      "    exception_prefix='input')\n",
      "  File \"C:\\Users\\ADMIN\\Anaconda3\\envs\\tf\\lib\\site-packages\\tensorflow_core\\python\\keras\\engine\\training_utils.py\", line 563, in standardize_input_data\n",
      "    'with shape ' + str(data_shape))\n",
      "ValueError: Error when checking input: expected conv2d_1_input to have 4 dimensions, but got array with shape (300, 300)\n",
      "\n"
     ]
    },
    {
     "name": "stdout",
     "output_type": "stream",
     "text": [
      "[[ 74  73  72 ... 111 111 110]\n",
      " [ 74  73  73 ... 111 111 110]\n",
      " [ 74  74  74 ... 113 113 111]\n",
      " ...\n",
      " [102 102 103 ...  73  74  76]\n",
      " [101 101 101 ...  72  73  75]\n",
      " [101 101 101 ...  72  73  75]]\n",
      "(300, 300)\n"
     ]
    },
    {
     "name": "stderr",
     "output_type": "stream",
     "text": [
      "Exception in thread Thread-24:\n",
      "Traceback (most recent call last):\n",
      "  File \"C:\\Users\\ADMIN\\Anaconda3\\envs\\tf\\lib\\threading.py\", line 916, in _bootstrap_inner\n",
      "    self.run()\n",
      "  File \"C:\\Users\\ADMIN\\Anaconda3\\envs\\tf\\lib\\threading.py\", line 864, in run\n",
      "    self._target(*self._args, **self._kwargs)\n",
      "  File \"<ipython-input-4-abf0d164e508>\", line 12, in predicti\n",
      "    prediction = model.predict(img1)\n",
      "  File \"C:\\Users\\ADMIN\\Anaconda3\\envs\\tf\\lib\\site-packages\\tensorflow_core\\python\\keras\\engine\\training.py\", line 908, in predict\n",
      "    use_multiprocessing=use_multiprocessing)\n",
      "  File \"C:\\Users\\ADMIN\\Anaconda3\\envs\\tf\\lib\\site-packages\\tensorflow_core\\python\\keras\\engine\\training_arrays.py\", line 716, in predict\n",
      "    x, check_steps=True, steps_name='steps', steps=steps)\n",
      "  File \"C:\\Users\\ADMIN\\Anaconda3\\envs\\tf\\lib\\site-packages\\tensorflow_core\\python\\keras\\engine\\training.py\", line 2471, in _standardize_user_data\n",
      "    exception_prefix='input')\n",
      "  File \"C:\\Users\\ADMIN\\Anaconda3\\envs\\tf\\lib\\site-packages\\tensorflow_core\\python\\keras\\engine\\training_utils.py\", line 563, in standardize_input_data\n",
      "    'with shape ' + str(data_shape))\n",
      "ValueError: Error when checking input: expected conv2d_1_input to have 4 dimensions, but got array with shape (300, 300)\n",
      "\n"
     ]
    },
    {
     "name": "stdout",
     "output_type": "stream",
     "text": [
      "[[ 74  73  72 ... 111 111 111]\n",
      " [ 73  73  72 ... 111 111 111]\n",
      " [ 73  73  72 ... 112 112 111]\n",
      " ...\n",
      " [102 103 104 ...  51  61  66]\n",
      " [102 103 104 ...  51  59  68]\n",
      " [102 102 103 ...  48  55  66]]\n",
      "(300, 300)\n"
     ]
    },
    {
     "name": "stderr",
     "output_type": "stream",
     "text": [
      "Exception in thread Thread-25:\n",
      "Traceback (most recent call last):\n",
      "  File \"C:\\Users\\ADMIN\\Anaconda3\\envs\\tf\\lib\\threading.py\", line 916, in _bootstrap_inner\n",
      "    self.run()\n",
      "  File \"C:\\Users\\ADMIN\\Anaconda3\\envs\\tf\\lib\\threading.py\", line 864, in run\n",
      "    self._target(*self._args, **self._kwargs)\n",
      "  File \"<ipython-input-4-abf0d164e508>\", line 12, in predicti\n",
      "    prediction = model.predict(img1)\n",
      "  File \"C:\\Users\\ADMIN\\Anaconda3\\envs\\tf\\lib\\site-packages\\tensorflow_core\\python\\keras\\engine\\training.py\", line 908, in predict\n",
      "    use_multiprocessing=use_multiprocessing)\n",
      "  File \"C:\\Users\\ADMIN\\Anaconda3\\envs\\tf\\lib\\site-packages\\tensorflow_core\\python\\keras\\engine\\training_arrays.py\", line 716, in predict\n",
      "    x, check_steps=True, steps_name='steps', steps=steps)\n",
      "  File \"C:\\Users\\ADMIN\\Anaconda3\\envs\\tf\\lib\\site-packages\\tensorflow_core\\python\\keras\\engine\\training.py\", line 2471, in _standardize_user_data\n",
      "    exception_prefix='input')\n",
      "  File \"C:\\Users\\ADMIN\\Anaconda3\\envs\\tf\\lib\\site-packages\\tensorflow_core\\python\\keras\\engine\\training_utils.py\", line 563, in standardize_input_data\n",
      "    'with shape ' + str(data_shape))\n",
      "ValueError: Error when checking input: expected conv2d_1_input to have 4 dimensions, but got array with shape (300, 300)\n",
      "\n"
     ]
    },
    {
     "name": "stdout",
     "output_type": "stream",
     "text": [
      "[[ 73  73  72 ... 112 111 112]\n",
      " [ 72  72  72 ... 111 111 111]\n",
      " [ 72  73  73 ... 111 112 111]\n",
      " ...\n",
      " [102 103 103 ...  52  52  52]\n",
      " [102 103 103 ...  46  47  46]\n",
      " [101 102 103 ...  41  41  41]]\n",
      "(300, 300)\n"
     ]
    },
    {
     "name": "stderr",
     "output_type": "stream",
     "text": [
      "Exception in thread Thread-26:\n",
      "Traceback (most recent call last):\n",
      "  File \"C:\\Users\\ADMIN\\Anaconda3\\envs\\tf\\lib\\threading.py\", line 916, in _bootstrap_inner\n",
      "    self.run()\n",
      "  File \"C:\\Users\\ADMIN\\Anaconda3\\envs\\tf\\lib\\threading.py\", line 864, in run\n",
      "    self._target(*self._args, **self._kwargs)\n",
      "  File \"<ipython-input-4-abf0d164e508>\", line 12, in predicti\n",
      "    prediction = model.predict(img1)\n",
      "  File \"C:\\Users\\ADMIN\\Anaconda3\\envs\\tf\\lib\\site-packages\\tensorflow_core\\python\\keras\\engine\\training.py\", line 908, in predict\n",
      "    use_multiprocessing=use_multiprocessing)\n",
      "  File \"C:\\Users\\ADMIN\\Anaconda3\\envs\\tf\\lib\\site-packages\\tensorflow_core\\python\\keras\\engine\\training_arrays.py\", line 716, in predict\n",
      "    x, check_steps=True, steps_name='steps', steps=steps)\n",
      "  File \"C:\\Users\\ADMIN\\Anaconda3\\envs\\tf\\lib\\site-packages\\tensorflow_core\\python\\keras\\engine\\training.py\", line 2471, in _standardize_user_data\n",
      "    exception_prefix='input')\n",
      "  File \"C:\\Users\\ADMIN\\Anaconda3\\envs\\tf\\lib\\site-packages\\tensorflow_core\\python\\keras\\engine\\training_utils.py\", line 563, in standardize_input_data\n",
      "    'with shape ' + str(data_shape))\n",
      "ValueError: Error when checking input: expected conv2d_1_input to have 4 dimensions, but got array with shape (300, 300)\n",
      "\n"
     ]
    },
    {
     "name": "stdout",
     "output_type": "stream",
     "text": [
      "[[ 71  71  71 ... 112 112 112]\n",
      " [ 72  72  72 ... 111 111 111]\n",
      " [ 72  72  72 ... 111 111 111]\n",
      " ...\n",
      " [106 105 104 ...  65  65  65]\n",
      " [106 105 103 ...  61  61  62]\n",
      " [106 106 103 ...  59  59  60]]\n",
      "(300, 300)\n"
     ]
    },
    {
     "name": "stderr",
     "output_type": "stream",
     "text": [
      "Exception in thread Thread-27:\n",
      "Traceback (most recent call last):\n",
      "  File \"C:\\Users\\ADMIN\\Anaconda3\\envs\\tf\\lib\\threading.py\", line 916, in _bootstrap_inner\n",
      "    self.run()\n",
      "  File \"C:\\Users\\ADMIN\\Anaconda3\\envs\\tf\\lib\\threading.py\", line 864, in run\n",
      "    self._target(*self._args, **self._kwargs)\n",
      "  File \"<ipython-input-4-abf0d164e508>\", line 12, in predicti\n",
      "    prediction = model.predict(img1)\n",
      "  File \"C:\\Users\\ADMIN\\Anaconda3\\envs\\tf\\lib\\site-packages\\tensorflow_core\\python\\keras\\engine\\training.py\", line 908, in predict\n",
      "    use_multiprocessing=use_multiprocessing)\n",
      "  File \"C:\\Users\\ADMIN\\Anaconda3\\envs\\tf\\lib\\site-packages\\tensorflow_core\\python\\keras\\engine\\training_arrays.py\", line 716, in predict\n",
      "    x, check_steps=True, steps_name='steps', steps=steps)\n",
      "  File \"C:\\Users\\ADMIN\\Anaconda3\\envs\\tf\\lib\\site-packages\\tensorflow_core\\python\\keras\\engine\\training.py\", line 2471, in _standardize_user_data\n",
      "    exception_prefix='input')\n",
      "  File \"C:\\Users\\ADMIN\\Anaconda3\\envs\\tf\\lib\\site-packages\\tensorflow_core\\python\\keras\\engine\\training_utils.py\", line 563, in standardize_input_data\n",
      "    'with shape ' + str(data_shape))\n",
      "ValueError: Error when checking input: expected conv2d_1_input to have 4 dimensions, but got array with shape (300, 300)\n",
      "\n"
     ]
    },
    {
     "name": "stdout",
     "output_type": "stream",
     "text": [
      "[[ 73  73  74 ... 114 112 112]\n",
      " [ 73  73  74 ... 112 112 112]\n",
      " [ 74  74  74 ... 112 112 111]\n",
      " ...\n",
      " [102 102 103 ...  69  68  68]\n",
      " [102 102 103 ...  67  67  67]\n",
      " [103 103 103 ...  65  65  66]]\n",
      "(300, 300)\n"
     ]
    },
    {
     "name": "stderr",
     "output_type": "stream",
     "text": [
      "Exception in thread Thread-28:\n",
      "Traceback (most recent call last):\n",
      "  File \"C:\\Users\\ADMIN\\Anaconda3\\envs\\tf\\lib\\threading.py\", line 916, in _bootstrap_inner\n",
      "    self.run()\n",
      "  File \"C:\\Users\\ADMIN\\Anaconda3\\envs\\tf\\lib\\threading.py\", line 864, in run\n",
      "    self._target(*self._args, **self._kwargs)\n",
      "  File \"<ipython-input-4-abf0d164e508>\", line 12, in predicti\n",
      "    prediction = model.predict(img1)\n",
      "  File \"C:\\Users\\ADMIN\\Anaconda3\\envs\\tf\\lib\\site-packages\\tensorflow_core\\python\\keras\\engine\\training.py\", line 908, in predict\n",
      "    use_multiprocessing=use_multiprocessing)\n",
      "  File \"C:\\Users\\ADMIN\\Anaconda3\\envs\\tf\\lib\\site-packages\\tensorflow_core\\python\\keras\\engine\\training_arrays.py\", line 716, in predict\n",
      "    x, check_steps=True, steps_name='steps', steps=steps)\n",
      "  File \"C:\\Users\\ADMIN\\Anaconda3\\envs\\tf\\lib\\site-packages\\tensorflow_core\\python\\keras\\engine\\training.py\", line 2471, in _standardize_user_data\n",
      "    exception_prefix='input')\n",
      "  File \"C:\\Users\\ADMIN\\Anaconda3\\envs\\tf\\lib\\site-packages\\tensorflow_core\\python\\keras\\engine\\training_utils.py\", line 563, in standardize_input_data\n",
      "    'with shape ' + str(data_shape))\n",
      "ValueError: Error when checking input: expected conv2d_1_input to have 4 dimensions, but got array with shape (300, 300)\n",
      "\n"
     ]
    },
    {
     "name": "stdout",
     "output_type": "stream",
     "text": [
      "[[ 71  69  71 ... 111 110 110]\n",
      " [ 71  69  72 ... 111 110 110]\n",
      " [ 71  71  72 ... 111 111 110]\n",
      " ...\n",
      " [105 106 105 ...  77  79  80]\n",
      " [103 104 104 ...  79  79  79]\n",
      " [102 103 102 ...  77  77  79]]\n",
      "(300, 300)\n"
     ]
    },
    {
     "name": "stderr",
     "output_type": "stream",
     "text": [
      "Exception in thread Thread-29:\n",
      "Traceback (most recent call last):\n",
      "  File \"C:\\Users\\ADMIN\\Anaconda3\\envs\\tf\\lib\\threading.py\", line 916, in _bootstrap_inner\n",
      "    self.run()\n",
      "  File \"C:\\Users\\ADMIN\\Anaconda3\\envs\\tf\\lib\\threading.py\", line 864, in run\n",
      "    self._target(*self._args, **self._kwargs)\n",
      "  File \"<ipython-input-4-abf0d164e508>\", line 12, in predicti\n",
      "    prediction = model.predict(img1)\n",
      "  File \"C:\\Users\\ADMIN\\Anaconda3\\envs\\tf\\lib\\site-packages\\tensorflow_core\\python\\keras\\engine\\training.py\", line 908, in predict\n",
      "    use_multiprocessing=use_multiprocessing)\n",
      "  File \"C:\\Users\\ADMIN\\Anaconda3\\envs\\tf\\lib\\site-packages\\tensorflow_core\\python\\keras\\engine\\training_arrays.py\", line 716, in predict\n",
      "    x, check_steps=True, steps_name='steps', steps=steps)\n",
      "  File \"C:\\Users\\ADMIN\\Anaconda3\\envs\\tf\\lib\\site-packages\\tensorflow_core\\python\\keras\\engine\\training.py\", line 2471, in _standardize_user_data\n",
      "    exception_prefix='input')\n",
      "  File \"C:\\Users\\ADMIN\\Anaconda3\\envs\\tf\\lib\\site-packages\\tensorflow_core\\python\\keras\\engine\\training_utils.py\", line 563, in standardize_input_data\n",
      "    'with shape ' + str(data_shape))\n",
      "ValueError: Error when checking input: expected conv2d_1_input to have 4 dimensions, but got array with shape (300, 300)\n",
      "\n"
     ]
    },
    {
     "name": "stdout",
     "output_type": "stream",
     "text": [
      "[[ 74  72  73 ... 111 111 110]\n",
      " [ 72  71  71 ... 112 111 110]\n",
      " [ 72  71  71 ... 112 111 111]\n",
      " ...\n",
      " [101 101 101 ...  79  79  79]\n",
      " [101 101 101 ...  79  79  80]\n",
      " [102 102 101 ...  77  79  80]]\n",
      "(300, 300)\n"
     ]
    },
    {
     "name": "stderr",
     "output_type": "stream",
     "text": [
      "Exception in thread Thread-30:\n",
      "Traceback (most recent call last):\n",
      "  File \"C:\\Users\\ADMIN\\Anaconda3\\envs\\tf\\lib\\threading.py\", line 916, in _bootstrap_inner\n",
      "    self.run()\n",
      "  File \"C:\\Users\\ADMIN\\Anaconda3\\envs\\tf\\lib\\threading.py\", line 864, in run\n",
      "    self._target(*self._args, **self._kwargs)\n",
      "  File \"<ipython-input-4-abf0d164e508>\", line 12, in predicti\n",
      "    prediction = model.predict(img1)\n",
      "  File \"C:\\Users\\ADMIN\\Anaconda3\\envs\\tf\\lib\\site-packages\\tensorflow_core\\python\\keras\\engine\\training.py\", line 908, in predict\n",
      "    use_multiprocessing=use_multiprocessing)\n",
      "  File \"C:\\Users\\ADMIN\\Anaconda3\\envs\\tf\\lib\\site-packages\\tensorflow_core\\python\\keras\\engine\\training_arrays.py\", line 716, in predict\n",
      "    x, check_steps=True, steps_name='steps', steps=steps)\n",
      "  File \"C:\\Users\\ADMIN\\Anaconda3\\envs\\tf\\lib\\site-packages\\tensorflow_core\\python\\keras\\engine\\training.py\", line 2471, in _standardize_user_data\n",
      "    exception_prefix='input')\n",
      "  File \"C:\\Users\\ADMIN\\Anaconda3\\envs\\tf\\lib\\site-packages\\tensorflow_core\\python\\keras\\engine\\training_utils.py\", line 563, in standardize_input_data\n",
      "    'with shape ' + str(data_shape))\n",
      "ValueError: Error when checking input: expected conv2d_1_input to have 4 dimensions, but got array with shape (300, 300)\n",
      "\n"
     ]
    },
    {
     "name": "stdout",
     "output_type": "stream",
     "text": [
      "[[ 72  72  72 ... 113 111 110]\n",
      " [ 72  71  70 ... 113 111 111]\n",
      " [ 72  71  71 ... 111 111 111]\n",
      " ...\n",
      " [100 100 101 ...  75  75  79]\n",
      " [101 101 101 ...  76  75  79]\n",
      " [102 102 102 ...  77  77  79]]\n",
      "(300, 300)\n"
     ]
    },
    {
     "name": "stderr",
     "output_type": "stream",
     "text": [
      "Exception in thread Thread-31:\n",
      "Traceback (most recent call last):\n",
      "  File \"C:\\Users\\ADMIN\\Anaconda3\\envs\\tf\\lib\\threading.py\", line 916, in _bootstrap_inner\n",
      "    self.run()\n",
      "  File \"C:\\Users\\ADMIN\\Anaconda3\\envs\\tf\\lib\\threading.py\", line 864, in run\n",
      "    self._target(*self._args, **self._kwargs)\n",
      "  File \"<ipython-input-4-abf0d164e508>\", line 12, in predicti\n",
      "    prediction = model.predict(img1)\n",
      "  File \"C:\\Users\\ADMIN\\Anaconda3\\envs\\tf\\lib\\site-packages\\tensorflow_core\\python\\keras\\engine\\training.py\", line 908, in predict\n",
      "    use_multiprocessing=use_multiprocessing)\n",
      "  File \"C:\\Users\\ADMIN\\Anaconda3\\envs\\tf\\lib\\site-packages\\tensorflow_core\\python\\keras\\engine\\training_arrays.py\", line 716, in predict\n",
      "    x, check_steps=True, steps_name='steps', steps=steps)\n",
      "  File \"C:\\Users\\ADMIN\\Anaconda3\\envs\\tf\\lib\\site-packages\\tensorflow_core\\python\\keras\\engine\\training.py\", line 2471, in _standardize_user_data\n",
      "    exception_prefix='input')\n",
      "  File \"C:\\Users\\ADMIN\\Anaconda3\\envs\\tf\\lib\\site-packages\\tensorflow_core\\python\\keras\\engine\\training_utils.py\", line 563, in standardize_input_data\n",
      "    'with shape ' + str(data_shape))\n",
      "ValueError: Error when checking input: expected conv2d_1_input to have 4 dimensions, but got array with shape (300, 300)\n",
      "\n"
     ]
    },
    {
     "name": "stdout",
     "output_type": "stream",
     "text": [
      "[[ 73  71  69 ... 110 109 109]\n",
      " [ 73  71  69 ... 109 110 110]\n",
      " [ 73  72  72 ... 110 109 109]\n",
      " ...\n",
      " [103 103 103 ...  51  49  51]\n",
      " [102 103 103 ...  52  49  51]\n",
      " [101 102 102 ...  54  52  51]]\n",
      "(300, 300)\n"
     ]
    },
    {
     "name": "stderr",
     "output_type": "stream",
     "text": [
      "Exception in thread Thread-32:\n",
      "Traceback (most recent call last):\n",
      "  File \"C:\\Users\\ADMIN\\Anaconda3\\envs\\tf\\lib\\threading.py\", line 916, in _bootstrap_inner\n",
      "    self.run()\n",
      "  File \"C:\\Users\\ADMIN\\Anaconda3\\envs\\tf\\lib\\threading.py\", line 864, in run\n",
      "    self._target(*self._args, **self._kwargs)\n",
      "  File \"<ipython-input-4-abf0d164e508>\", line 12, in predicti\n",
      "    prediction = model.predict(img1)\n",
      "  File \"C:\\Users\\ADMIN\\Anaconda3\\envs\\tf\\lib\\site-packages\\tensorflow_core\\python\\keras\\engine\\training.py\", line 908, in predict\n",
      "    use_multiprocessing=use_multiprocessing)\n",
      "  File \"C:\\Users\\ADMIN\\Anaconda3\\envs\\tf\\lib\\site-packages\\tensorflow_core\\python\\keras\\engine\\training_arrays.py\", line 716, in predict\n",
      "    x, check_steps=True, steps_name='steps', steps=steps)\n",
      "  File \"C:\\Users\\ADMIN\\Anaconda3\\envs\\tf\\lib\\site-packages\\tensorflow_core\\python\\keras\\engine\\training.py\", line 2471, in _standardize_user_data\n",
      "    exception_prefix='input')\n",
      "  File \"C:\\Users\\ADMIN\\Anaconda3\\envs\\tf\\lib\\site-packages\\tensorflow_core\\python\\keras\\engine\\training_utils.py\", line 563, in standardize_input_data\n",
      "    'with shape ' + str(data_shape))\n",
      "ValueError: Error when checking input: expected conv2d_1_input to have 4 dimensions, but got array with shape (300, 300)\n",
      "\n"
     ]
    },
    {
     "name": "stdout",
     "output_type": "stream",
     "text": [
      "[[ 72  71  72 ... 112 111 112]\n",
      " [ 72  72  72 ... 111 110 110]\n",
      " [ 74  74  74 ... 111 111 110]\n",
      " ...\n",
      " [103 104 105 ...  60  60  59]\n",
      " [103 103 104 ...  58  59  58]\n",
      " [103 103 103 ...  55  57  57]]\n",
      "(300, 300)\n"
     ]
    },
    {
     "name": "stderr",
     "output_type": "stream",
     "text": [
      "Exception in thread Thread-33:\n",
      "Traceback (most recent call last):\n",
      "  File \"C:\\Users\\ADMIN\\Anaconda3\\envs\\tf\\lib\\threading.py\", line 916, in _bootstrap_inner\n",
      "    self.run()\n",
      "  File \"C:\\Users\\ADMIN\\Anaconda3\\envs\\tf\\lib\\threading.py\", line 864, in run\n",
      "    self._target(*self._args, **self._kwargs)\n",
      "  File \"<ipython-input-4-abf0d164e508>\", line 12, in predicti\n",
      "    prediction = model.predict(img1)\n",
      "  File \"C:\\Users\\ADMIN\\Anaconda3\\envs\\tf\\lib\\site-packages\\tensorflow_core\\python\\keras\\engine\\training.py\", line 908, in predict\n",
      "    use_multiprocessing=use_multiprocessing)\n",
      "  File \"C:\\Users\\ADMIN\\Anaconda3\\envs\\tf\\lib\\site-packages\\tensorflow_core\\python\\keras\\engine\\training_arrays.py\", line 716, in predict\n",
      "    x, check_steps=True, steps_name='steps', steps=steps)\n",
      "  File \"C:\\Users\\ADMIN\\Anaconda3\\envs\\tf\\lib\\site-packages\\tensorflow_core\\python\\keras\\engine\\training.py\", line 2471, in _standardize_user_data\n",
      "    exception_prefix='input')\n",
      "  File \"C:\\Users\\ADMIN\\Anaconda3\\envs\\tf\\lib\\site-packages\\tensorflow_core\\python\\keras\\engine\\training_utils.py\", line 563, in standardize_input_data\n",
      "    'with shape ' + str(data_shape))\n",
      "ValueError: Error when checking input: expected conv2d_1_input to have 4 dimensions, but got array with shape (300, 300)\n",
      "\n"
     ]
    },
    {
     "name": "stdout",
     "output_type": "stream",
     "text": [
      "[[ 71  71  71 ... 113 111 111]\n",
      " [ 71  71  72 ... 113 113 113]\n",
      " [ 71  71  71 ... 114 114 113]\n",
      " ...\n",
      " [103 104 105 ... 146 134 117]\n",
      " [102 103 104 ...  72  71  70]\n",
      " [103 103 103 ...  80  83  88]]\n",
      "(300, 300)\n"
     ]
    },
    {
     "name": "stderr",
     "output_type": "stream",
     "text": [
      "Exception in thread Thread-34:\n",
      "Traceback (most recent call last):\n",
      "  File \"C:\\Users\\ADMIN\\Anaconda3\\envs\\tf\\lib\\threading.py\", line 916, in _bootstrap_inner\n",
      "    self.run()\n",
      "  File \"C:\\Users\\ADMIN\\Anaconda3\\envs\\tf\\lib\\threading.py\", line 864, in run\n",
      "    self._target(*self._args, **self._kwargs)\n",
      "  File \"<ipython-input-4-abf0d164e508>\", line 12, in predicti\n",
      "    prediction = model.predict(img1)\n",
      "  File \"C:\\Users\\ADMIN\\Anaconda3\\envs\\tf\\lib\\site-packages\\tensorflow_core\\python\\keras\\engine\\training.py\", line 908, in predict\n",
      "    use_multiprocessing=use_multiprocessing)\n",
      "  File \"C:\\Users\\ADMIN\\Anaconda3\\envs\\tf\\lib\\site-packages\\tensorflow_core\\python\\keras\\engine\\training_arrays.py\", line 716, in predict\n",
      "    x, check_steps=True, steps_name='steps', steps=steps)\n",
      "  File \"C:\\Users\\ADMIN\\Anaconda3\\envs\\tf\\lib\\site-packages\\tensorflow_core\\python\\keras\\engine\\training.py\", line 2471, in _standardize_user_data\n",
      "    exception_prefix='input')\n",
      "  File \"C:\\Users\\ADMIN\\Anaconda3\\envs\\tf\\lib\\site-packages\\tensorflow_core\\python\\keras\\engine\\training_utils.py\", line 563, in standardize_input_data\n",
      "    'with shape ' + str(data_shape))\n",
      "ValueError: Error when checking input: expected conv2d_1_input to have 4 dimensions, but got array with shape (300, 300)\n",
      "\n"
     ]
    },
    {
     "name": "stdout",
     "output_type": "stream",
     "text": [
      "[[ 69  71  71 ... 114 114 112]\n",
      " [ 69  71  70 ... 112 112 112]\n",
      " [ 70  71  71 ... 112 112 112]\n",
      " ...\n",
      " [103 103 103 ...  60  62  61]\n",
      " [102 103 103 ...  62  62  60]\n",
      " [103 104 103 ...  62  63  61]]\n",
      "(300, 300)\n"
     ]
    },
    {
     "name": "stderr",
     "output_type": "stream",
     "text": [
      "Exception in thread Thread-35:\n",
      "Traceback (most recent call last):\n",
      "  File \"C:\\Users\\ADMIN\\Anaconda3\\envs\\tf\\lib\\threading.py\", line 916, in _bootstrap_inner\n",
      "    self.run()\n",
      "  File \"C:\\Users\\ADMIN\\Anaconda3\\envs\\tf\\lib\\threading.py\", line 864, in run\n",
      "    self._target(*self._args, **self._kwargs)\n",
      "  File \"<ipython-input-4-abf0d164e508>\", line 12, in predicti\n",
      "    prediction = model.predict(img1)\n",
      "  File \"C:\\Users\\ADMIN\\Anaconda3\\envs\\tf\\lib\\site-packages\\tensorflow_core\\python\\keras\\engine\\training.py\", line 908, in predict\n",
      "    use_multiprocessing=use_multiprocessing)\n",
      "  File \"C:\\Users\\ADMIN\\Anaconda3\\envs\\tf\\lib\\site-packages\\tensorflow_core\\python\\keras\\engine\\training_arrays.py\", line 716, in predict\n",
      "    x, check_steps=True, steps_name='steps', steps=steps)\n",
      "  File \"C:\\Users\\ADMIN\\Anaconda3\\envs\\tf\\lib\\site-packages\\tensorflow_core\\python\\keras\\engine\\training.py\", line 2471, in _standardize_user_data\n",
      "    exception_prefix='input')\n",
      "  File \"C:\\Users\\ADMIN\\Anaconda3\\envs\\tf\\lib\\site-packages\\tensorflow_core\\python\\keras\\engine\\training_utils.py\", line 563, in standardize_input_data\n",
      "    'with shape ' + str(data_shape))\n",
      "ValueError: Error when checking input: expected conv2d_1_input to have 4 dimensions, but got array with shape (300, 300)\n",
      "\n"
     ]
    },
    {
     "name": "stdout",
     "output_type": "stream",
     "text": [
      "[[ 73  72  72 ... 111 111 111]\n",
      " [ 72  71  72 ... 111 111 111]\n",
      " [ 72  73  74 ... 111 110 111]\n",
      " ...\n",
      " [103 103 103 ...  81  81  81]\n",
      " [103 103 103 ...  80  81  81]\n",
      " [103 103 103 ...  80  81  81]]\n",
      "(300, 300)\n"
     ]
    },
    {
     "name": "stderr",
     "output_type": "stream",
     "text": [
      "Exception in thread Thread-36:\n",
      "Traceback (most recent call last):\n",
      "  File \"C:\\Users\\ADMIN\\Anaconda3\\envs\\tf\\lib\\threading.py\", line 916, in _bootstrap_inner\n",
      "    self.run()\n",
      "  File \"C:\\Users\\ADMIN\\Anaconda3\\envs\\tf\\lib\\threading.py\", line 864, in run\n",
      "    self._target(*self._args, **self._kwargs)\n",
      "  File \"<ipython-input-4-abf0d164e508>\", line 12, in predicti\n",
      "    prediction = model.predict(img1)\n",
      "  File \"C:\\Users\\ADMIN\\Anaconda3\\envs\\tf\\lib\\site-packages\\tensorflow_core\\python\\keras\\engine\\training.py\", line 908, in predict\n",
      "    use_multiprocessing=use_multiprocessing)\n",
      "  File \"C:\\Users\\ADMIN\\Anaconda3\\envs\\tf\\lib\\site-packages\\tensorflow_core\\python\\keras\\engine\\training_arrays.py\", line 716, in predict\n",
      "    x, check_steps=True, steps_name='steps', steps=steps)\n",
      "  File \"C:\\Users\\ADMIN\\Anaconda3\\envs\\tf\\lib\\site-packages\\tensorflow_core\\python\\keras\\engine\\training.py\", line 2471, in _standardize_user_data\n",
      "    exception_prefix='input')\n",
      "  File \"C:\\Users\\ADMIN\\Anaconda3\\envs\\tf\\lib\\site-packages\\tensorflow_core\\python\\keras\\engine\\training_utils.py\", line 563, in standardize_input_data\n",
      "    'with shape ' + str(data_shape))\n",
      "ValueError: Error when checking input: expected conv2d_1_input to have 4 dimensions, but got array with shape (300, 300)\n",
      "\n"
     ]
    },
    {
     "name": "stdout",
     "output_type": "stream",
     "text": [
      "[[ 71  68  68 ... 111 112 112]\n",
      " [ 71  69  71 ... 111 112 111]\n",
      " [ 72  71  72 ... 111 111 112]\n",
      " ...\n",
      " [103 103 104 ...  76  78  81]\n",
      " [104 104 104 ...  74  76  80]\n",
      " [103 103 104 ...  71  75  78]]\n",
      "(300, 300)\n"
     ]
    },
    {
     "name": "stderr",
     "output_type": "stream",
     "text": [
      "Exception in thread Thread-37:\n",
      "Traceback (most recent call last):\n",
      "  File \"C:\\Users\\ADMIN\\Anaconda3\\envs\\tf\\lib\\threading.py\", line 916, in _bootstrap_inner\n",
      "    self.run()\n",
      "  File \"C:\\Users\\ADMIN\\Anaconda3\\envs\\tf\\lib\\threading.py\", line 864, in run\n",
      "    self._target(*self._args, **self._kwargs)\n",
      "  File \"<ipython-input-4-abf0d164e508>\", line 12, in predicti\n",
      "    prediction = model.predict(img1)\n",
      "  File \"C:\\Users\\ADMIN\\Anaconda3\\envs\\tf\\lib\\site-packages\\tensorflow_core\\python\\keras\\engine\\training.py\", line 908, in predict\n",
      "    use_multiprocessing=use_multiprocessing)\n",
      "  File \"C:\\Users\\ADMIN\\Anaconda3\\envs\\tf\\lib\\site-packages\\tensorflow_core\\python\\keras\\engine\\training_arrays.py\", line 716, in predict\n",
      "    x, check_steps=True, steps_name='steps', steps=steps)\n",
      "  File \"C:\\Users\\ADMIN\\Anaconda3\\envs\\tf\\lib\\site-packages\\tensorflow_core\\python\\keras\\engine\\training.py\", line 2471, in _standardize_user_data\n",
      "    exception_prefix='input')\n",
      "  File \"C:\\Users\\ADMIN\\Anaconda3\\envs\\tf\\lib\\site-packages\\tensorflow_core\\python\\keras\\engine\\training_utils.py\", line 563, in standardize_input_data\n",
      "    'with shape ' + str(data_shape))\n",
      "ValueError: Error when checking input: expected conv2d_1_input to have 4 dimensions, but got array with shape (300, 300)\n",
      "\n"
     ]
    },
    {
     "name": "stdout",
     "output_type": "stream",
     "text": [
      "[[ 72  71  71 ... 112 110 110]\n",
      " [ 72  72  72 ... 110 111 111]\n",
      " [ 73  73  72 ... 112 111 112]\n",
      " ...\n",
      " [104 104 104 ...  75  75  75]\n",
      " [104 103 103 ...  77  76  76]\n",
      " [104 103 103 ...  79  79  79]]\n",
      "(300, 300)\n"
     ]
    },
    {
     "name": "stderr",
     "output_type": "stream",
     "text": [
      "Exception in thread Thread-38:\n",
      "Traceback (most recent call last):\n",
      "  File \"C:\\Users\\ADMIN\\Anaconda3\\envs\\tf\\lib\\threading.py\", line 916, in _bootstrap_inner\n",
      "    self.run()\n",
      "  File \"C:\\Users\\ADMIN\\Anaconda3\\envs\\tf\\lib\\threading.py\", line 864, in run\n",
      "    self._target(*self._args, **self._kwargs)\n",
      "  File \"<ipython-input-4-abf0d164e508>\", line 12, in predicti\n",
      "    prediction = model.predict(img1)\n",
      "  File \"C:\\Users\\ADMIN\\Anaconda3\\envs\\tf\\lib\\site-packages\\tensorflow_core\\python\\keras\\engine\\training.py\", line 908, in predict\n",
      "    use_multiprocessing=use_multiprocessing)\n",
      "  File \"C:\\Users\\ADMIN\\Anaconda3\\envs\\tf\\lib\\site-packages\\tensorflow_core\\python\\keras\\engine\\training_arrays.py\", line 716, in predict\n",
      "    x, check_steps=True, steps_name='steps', steps=steps)\n",
      "  File \"C:\\Users\\ADMIN\\Anaconda3\\envs\\tf\\lib\\site-packages\\tensorflow_core\\python\\keras\\engine\\training.py\", line 2471, in _standardize_user_data\n",
      "    exception_prefix='input')\n",
      "  File \"C:\\Users\\ADMIN\\Anaconda3\\envs\\tf\\lib\\site-packages\\tensorflow_core\\python\\keras\\engine\\training_utils.py\", line 563, in standardize_input_data\n",
      "    'with shape ' + str(data_shape))\n",
      "ValueError: Error when checking input: expected conv2d_1_input to have 4 dimensions, but got array with shape (300, 300)\n",
      "\n"
     ]
    },
    {
     "name": "stdout",
     "output_type": "stream",
     "text": [
      "[[ 72  72  72 ... 111 111 110]\n",
      " [ 72  72  71 ... 111 111 110]\n",
      " [ 72  72  71 ... 111 111 111]\n",
      " ...\n",
      " [103 103 103 ...  77  77  77]\n",
      " [103 103 102 ...  76  75  76]\n",
      " [103 103 103 ...  77  77  79]]\n",
      "(300, 300)\n"
     ]
    },
    {
     "name": "stderr",
     "output_type": "stream",
     "text": [
      "Exception in thread Thread-39:\n",
      "Traceback (most recent call last):\n",
      "  File \"C:\\Users\\ADMIN\\Anaconda3\\envs\\tf\\lib\\threading.py\", line 916, in _bootstrap_inner\n",
      "    self.run()\n",
      "  File \"C:\\Users\\ADMIN\\Anaconda3\\envs\\tf\\lib\\threading.py\", line 864, in run\n",
      "    self._target(*self._args, **self._kwargs)\n",
      "  File \"<ipython-input-4-abf0d164e508>\", line 12, in predicti\n",
      "    prediction = model.predict(img1)\n",
      "  File \"C:\\Users\\ADMIN\\Anaconda3\\envs\\tf\\lib\\site-packages\\tensorflow_core\\python\\keras\\engine\\training.py\", line 908, in predict\n",
      "    use_multiprocessing=use_multiprocessing)\n",
      "  File \"C:\\Users\\ADMIN\\Anaconda3\\envs\\tf\\lib\\site-packages\\tensorflow_core\\python\\keras\\engine\\training_arrays.py\", line 716, in predict\n",
      "    x, check_steps=True, steps_name='steps', steps=steps)\n",
      "  File \"C:\\Users\\ADMIN\\Anaconda3\\envs\\tf\\lib\\site-packages\\tensorflow_core\\python\\keras\\engine\\training.py\", line 2471, in _standardize_user_data\n",
      "    exception_prefix='input')\n",
      "  File \"C:\\Users\\ADMIN\\Anaconda3\\envs\\tf\\lib\\site-packages\\tensorflow_core\\python\\keras\\engine\\training_utils.py\", line 563, in standardize_input_data\n",
      "    'with shape ' + str(data_shape))\n",
      "ValueError: Error when checking input: expected conv2d_1_input to have 4 dimensions, but got array with shape (300, 300)\n",
      "\n"
     ]
    },
    {
     "name": "stdout",
     "output_type": "stream",
     "text": [
      "[[ 72  71  70 ... 109 110 110]\n",
      " [ 72  71  70 ... 109 109 109]\n",
      " [ 72  72  71 ... 110 110 109]\n",
      " ...\n",
      " [102 102 103 ...  79  79  77]\n",
      " [101 102 102 ...  79  79  79]\n",
      " [101 101 101 ...  79  79  79]]\n",
      "(300, 300)\n"
     ]
    },
    {
     "name": "stderr",
     "output_type": "stream",
     "text": [
      "Exception in thread Thread-40:\n",
      "Traceback (most recent call last):\n",
      "  File \"C:\\Users\\ADMIN\\Anaconda3\\envs\\tf\\lib\\threading.py\", line 916, in _bootstrap_inner\n",
      "    self.run()\n",
      "  File \"C:\\Users\\ADMIN\\Anaconda3\\envs\\tf\\lib\\threading.py\", line 864, in run\n",
      "    self._target(*self._args, **self._kwargs)\n",
      "  File \"<ipython-input-4-abf0d164e508>\", line 12, in predicti\n",
      "    prediction = model.predict(img1)\n",
      "  File \"C:\\Users\\ADMIN\\Anaconda3\\envs\\tf\\lib\\site-packages\\tensorflow_core\\python\\keras\\engine\\training.py\", line 908, in predict\n",
      "    use_multiprocessing=use_multiprocessing)\n",
      "  File \"C:\\Users\\ADMIN\\Anaconda3\\envs\\tf\\lib\\site-packages\\tensorflow_core\\python\\keras\\engine\\training_arrays.py\", line 716, in predict\n",
      "    x, check_steps=True, steps_name='steps', steps=steps)\n",
      "  File \"C:\\Users\\ADMIN\\Anaconda3\\envs\\tf\\lib\\site-packages\\tensorflow_core\\python\\keras\\engine\\training.py\", line 2471, in _standardize_user_data\n",
      "    exception_prefix='input')\n",
      "  File \"C:\\Users\\ADMIN\\Anaconda3\\envs\\tf\\lib\\site-packages\\tensorflow_core\\python\\keras\\engine\\training_utils.py\", line 563, in standardize_input_data\n",
      "    'with shape ' + str(data_shape))\n",
      "ValueError: Error when checking input: expected conv2d_1_input to have 4 dimensions, but got array with shape (300, 300)\n",
      "\n"
     ]
    },
    {
     "name": "stdout",
     "output_type": "stream",
     "text": [
      "[[ 72  71  71 ... 109 110 110]\n",
      " [ 71  69  71 ... 110 110 110]\n",
      " [ 71  69  69 ... 110 110 110]\n",
      " ...\n",
      " [104 102 102 ...  82  82  82]\n",
      " [103 101 101 ...  82  81  82]\n",
      " [102 101 101 ...  81  80  80]]\n",
      "(300, 300)\n"
     ]
    },
    {
     "name": "stderr",
     "output_type": "stream",
     "text": [
      "Exception in thread Thread-41:\n",
      "Traceback (most recent call last):\n",
      "  File \"C:\\Users\\ADMIN\\Anaconda3\\envs\\tf\\lib\\threading.py\", line 916, in _bootstrap_inner\n",
      "    self.run()\n",
      "  File \"C:\\Users\\ADMIN\\Anaconda3\\envs\\tf\\lib\\threading.py\", line 864, in run\n",
      "    self._target(*self._args, **self._kwargs)\n",
      "  File \"<ipython-input-4-abf0d164e508>\", line 12, in predicti\n",
      "    prediction = model.predict(img1)\n",
      "  File \"C:\\Users\\ADMIN\\Anaconda3\\envs\\tf\\lib\\site-packages\\tensorflow_core\\python\\keras\\engine\\training.py\", line 908, in predict\n",
      "    use_multiprocessing=use_multiprocessing)\n",
      "  File \"C:\\Users\\ADMIN\\Anaconda3\\envs\\tf\\lib\\site-packages\\tensorflow_core\\python\\keras\\engine\\training_arrays.py\", line 716, in predict\n",
      "    x, check_steps=True, steps_name='steps', steps=steps)\n",
      "  File \"C:\\Users\\ADMIN\\Anaconda3\\envs\\tf\\lib\\site-packages\\tensorflow_core\\python\\keras\\engine\\training.py\", line 2471, in _standardize_user_data\n",
      "    exception_prefix='input')\n",
      "  File \"C:\\Users\\ADMIN\\Anaconda3\\envs\\tf\\lib\\site-packages\\tensorflow_core\\python\\keras\\engine\\training_utils.py\", line 563, in standardize_input_data\n",
      "    'with shape ' + str(data_shape))\n",
      "ValueError: Error when checking input: expected conv2d_1_input to have 4 dimensions, but got array with shape (300, 300)\n",
      "\n"
     ]
    },
    {
     "name": "stdout",
     "output_type": "stream",
     "text": [
      "[[ 71  69  69 ... 110 110 110]\n",
      " [ 69  68  68 ... 111 111 111]\n",
      " [ 69  69  69 ... 110 112 111]\n",
      " ...\n",
      " [101 101 101 ...  53  51  51]\n",
      " [102 102 101 ...  54  52  52]\n",
      " [102 102 101 ...  54  52  52]]\n",
      "(300, 300)\n"
     ]
    },
    {
     "name": "stderr",
     "output_type": "stream",
     "text": [
      "Exception in thread Thread-42:\n",
      "Traceback (most recent call last):\n",
      "  File \"C:\\Users\\ADMIN\\Anaconda3\\envs\\tf\\lib\\threading.py\", line 916, in _bootstrap_inner\n",
      "    self.run()\n",
      "  File \"C:\\Users\\ADMIN\\Anaconda3\\envs\\tf\\lib\\threading.py\", line 864, in run\n",
      "    self._target(*self._args, **self._kwargs)\n",
      "  File \"<ipython-input-4-abf0d164e508>\", line 12, in predicti\n",
      "    prediction = model.predict(img1)\n",
      "  File \"C:\\Users\\ADMIN\\Anaconda3\\envs\\tf\\lib\\site-packages\\tensorflow_core\\python\\keras\\engine\\training.py\", line 908, in predict\n",
      "    use_multiprocessing=use_multiprocessing)\n",
      "  File \"C:\\Users\\ADMIN\\Anaconda3\\envs\\tf\\lib\\site-packages\\tensorflow_core\\python\\keras\\engine\\training_arrays.py\", line 716, in predict\n",
      "    x, check_steps=True, steps_name='steps', steps=steps)\n",
      "  File \"C:\\Users\\ADMIN\\Anaconda3\\envs\\tf\\lib\\site-packages\\tensorflow_core\\python\\keras\\engine\\training.py\", line 2471, in _standardize_user_data\n",
      "    exception_prefix='input')\n",
      "  File \"C:\\Users\\ADMIN\\Anaconda3\\envs\\tf\\lib\\site-packages\\tensorflow_core\\python\\keras\\engine\\training_utils.py\", line 563, in standardize_input_data\n",
      "    'with shape ' + str(data_shape))\n",
      "ValueError: Error when checking input: expected conv2d_1_input to have 4 dimensions, but got array with shape (300, 300)\n",
      "\n"
     ]
    },
    {
     "name": "stdout",
     "output_type": "stream",
     "text": [
      "[[ 72  71  71 ... 110 109 110]\n",
      " [ 71  71  71 ... 111 110 110]\n",
      " [ 71  71  71 ... 111 111 112]\n",
      " ...\n",
      " [101  99 101 ...  88  84  67]\n",
      " [101 101 101 ...  87  86  81]\n",
      " [ 99 101 101 ...  88  89  89]]\n",
      "(300, 300)\n"
     ]
    },
    {
     "name": "stderr",
     "output_type": "stream",
     "text": [
      "Exception in thread Thread-43:\n",
      "Traceback (most recent call last):\n",
      "  File \"C:\\Users\\ADMIN\\Anaconda3\\envs\\tf\\lib\\threading.py\", line 916, in _bootstrap_inner\n",
      "    self.run()\n",
      "  File \"C:\\Users\\ADMIN\\Anaconda3\\envs\\tf\\lib\\threading.py\", line 864, in run\n",
      "    self._target(*self._args, **self._kwargs)\n",
      "  File \"<ipython-input-4-abf0d164e508>\", line 12, in predicti\n",
      "    prediction = model.predict(img1)\n",
      "  File \"C:\\Users\\ADMIN\\Anaconda3\\envs\\tf\\lib\\site-packages\\tensorflow_core\\python\\keras\\engine\\training.py\", line 908, in predict\n",
      "    use_multiprocessing=use_multiprocessing)\n",
      "  File \"C:\\Users\\ADMIN\\Anaconda3\\envs\\tf\\lib\\site-packages\\tensorflow_core\\python\\keras\\engine\\training_arrays.py\", line 716, in predict\n",
      "    x, check_steps=True, steps_name='steps', steps=steps)\n",
      "  File \"C:\\Users\\ADMIN\\Anaconda3\\envs\\tf\\lib\\site-packages\\tensorflow_core\\python\\keras\\engine\\training.py\", line 2471, in _standardize_user_data\n",
      "    exception_prefix='input')\n",
      "  File \"C:\\Users\\ADMIN\\Anaconda3\\envs\\tf\\lib\\site-packages\\tensorflow_core\\python\\keras\\engine\\training_utils.py\", line 563, in standardize_input_data\n",
      "    'with shape ' + str(data_shape))\n",
      "ValueError: Error when checking input: expected conv2d_1_input to have 4 dimensions, but got array with shape (300, 300)\n",
      "\n"
     ]
    },
    {
     "name": "stdout",
     "output_type": "stream",
     "text": [
      "[[ 71  72  72 ... 110 111 110]\n",
      " [ 72  72  73 ... 111 111 110]\n",
      " [ 72  73  73 ... 111 111 109]\n",
      " ...\n",
      " [101 101 102 ...  71  73  75]\n",
      " [101 101 101 ...  71  73  74]\n",
      " [100 101 101 ...  69  72  74]]\n",
      "(300, 300)\n"
     ]
    },
    {
     "name": "stderr",
     "output_type": "stream",
     "text": [
      "Exception in thread Thread-44:\n",
      "Traceback (most recent call last):\n",
      "  File \"C:\\Users\\ADMIN\\Anaconda3\\envs\\tf\\lib\\threading.py\", line 916, in _bootstrap_inner\n",
      "    self.run()\n",
      "  File \"C:\\Users\\ADMIN\\Anaconda3\\envs\\tf\\lib\\threading.py\", line 864, in run\n",
      "    self._target(*self._args, **self._kwargs)\n",
      "  File \"<ipython-input-4-abf0d164e508>\", line 12, in predicti\n",
      "    prediction = model.predict(img1)\n",
      "  File \"C:\\Users\\ADMIN\\Anaconda3\\envs\\tf\\lib\\site-packages\\tensorflow_core\\python\\keras\\engine\\training.py\", line 908, in predict\n",
      "    use_multiprocessing=use_multiprocessing)\n",
      "  File \"C:\\Users\\ADMIN\\Anaconda3\\envs\\tf\\lib\\site-packages\\tensorflow_core\\python\\keras\\engine\\training_arrays.py\", line 716, in predict\n",
      "    x, check_steps=True, steps_name='steps', steps=steps)\n",
      "  File \"C:\\Users\\ADMIN\\Anaconda3\\envs\\tf\\lib\\site-packages\\tensorflow_core\\python\\keras\\engine\\training.py\", line 2471, in _standardize_user_data\n",
      "    exception_prefix='input')\n",
      "  File \"C:\\Users\\ADMIN\\Anaconda3\\envs\\tf\\lib\\site-packages\\tensorflow_core\\python\\keras\\engine\\training_utils.py\", line 563, in standardize_input_data\n",
      "    'with shape ' + str(data_shape))\n",
      "ValueError: Error when checking input: expected conv2d_1_input to have 4 dimensions, but got array with shape (300, 300)\n",
      "\n"
     ]
    },
    {
     "name": "stdout",
     "output_type": "stream",
     "text": [
      "[[ 72  71  71 ... 110 109 109]\n",
      " [ 72  71  71 ... 110 109 109]\n",
      " [ 73  73  72 ... 110 109 109]\n",
      " ...\n",
      " [100 101 102 ...  71  73  75]\n",
      " [100 101 101 ...  69  71  72]\n",
      " [100 100 101 ...  67  68  71]]\n",
      "(300, 300)\n"
     ]
    },
    {
     "name": "stderr",
     "output_type": "stream",
     "text": [
      "Exception in thread Thread-45:\n",
      "Traceback (most recent call last):\n",
      "  File \"C:\\Users\\ADMIN\\Anaconda3\\envs\\tf\\lib\\threading.py\", line 916, in _bootstrap_inner\n",
      "    self.run()\n",
      "  File \"C:\\Users\\ADMIN\\Anaconda3\\envs\\tf\\lib\\threading.py\", line 864, in run\n",
      "    self._target(*self._args, **self._kwargs)\n",
      "  File \"<ipython-input-4-abf0d164e508>\", line 12, in predicti\n",
      "    prediction = model.predict(img1)\n",
      "  File \"C:\\Users\\ADMIN\\Anaconda3\\envs\\tf\\lib\\site-packages\\tensorflow_core\\python\\keras\\engine\\training.py\", line 908, in predict\n",
      "    use_multiprocessing=use_multiprocessing)\n",
      "  File \"C:\\Users\\ADMIN\\Anaconda3\\envs\\tf\\lib\\site-packages\\tensorflow_core\\python\\keras\\engine\\training_arrays.py\", line 716, in predict\n",
      "    x, check_steps=True, steps_name='steps', steps=steps)\n",
      "  File \"C:\\Users\\ADMIN\\Anaconda3\\envs\\tf\\lib\\site-packages\\tensorflow_core\\python\\keras\\engine\\training.py\", line 2471, in _standardize_user_data\n",
      "    exception_prefix='input')\n",
      "  File \"C:\\Users\\ADMIN\\Anaconda3\\envs\\tf\\lib\\site-packages\\tensorflow_core\\python\\keras\\engine\\training_utils.py\", line 563, in standardize_input_data\n",
      "    'with shape ' + str(data_shape))\n",
      "ValueError: Error when checking input: expected conv2d_1_input to have 4 dimensions, but got array with shape (300, 300)\n",
      "\n"
     ]
    },
    {
     "name": "stdout",
     "output_type": "stream",
     "text": [
      "[[ 72  72  72 ... 111 111 109]\n",
      " [ 73  73  73 ... 111 110 109]\n",
      " [ 74  73  73 ... 110 109 107]\n",
      " ...\n",
      " [102 102 102 ...  71  73  73]\n",
      " [103 102 102 ...  69  72  73]\n",
      " [102 102 102 ...  68  71  72]]\n",
      "(300, 300)\n"
     ]
    },
    {
     "name": "stderr",
     "output_type": "stream",
     "text": [
      "Exception in thread Thread-46:\n",
      "Traceback (most recent call last):\n",
      "  File \"C:\\Users\\ADMIN\\Anaconda3\\envs\\tf\\lib\\threading.py\", line 916, in _bootstrap_inner\n",
      "    self.run()\n",
      "  File \"C:\\Users\\ADMIN\\Anaconda3\\envs\\tf\\lib\\threading.py\", line 864, in run\n",
      "    self._target(*self._args, **self._kwargs)\n",
      "  File \"<ipython-input-4-abf0d164e508>\", line 12, in predicti\n",
      "    prediction = model.predict(img1)\n",
      "  File \"C:\\Users\\ADMIN\\Anaconda3\\envs\\tf\\lib\\site-packages\\tensorflow_core\\python\\keras\\engine\\training.py\", line 908, in predict\n",
      "    use_multiprocessing=use_multiprocessing)\n",
      "  File \"C:\\Users\\ADMIN\\Anaconda3\\envs\\tf\\lib\\site-packages\\tensorflow_core\\python\\keras\\engine\\training_arrays.py\", line 716, in predict\n",
      "    x, check_steps=True, steps_name='steps', steps=steps)\n",
      "  File \"C:\\Users\\ADMIN\\Anaconda3\\envs\\tf\\lib\\site-packages\\tensorflow_core\\python\\keras\\engine\\training.py\", line 2471, in _standardize_user_data\n",
      "    exception_prefix='input')\n",
      "  File \"C:\\Users\\ADMIN\\Anaconda3\\envs\\tf\\lib\\site-packages\\tensorflow_core\\python\\keras\\engine\\training_utils.py\", line 563, in standardize_input_data\n",
      "    'with shape ' + str(data_shape))\n",
      "ValueError: Error when checking input: expected conv2d_1_input to have 4 dimensions, but got array with shape (300, 300)\n",
      "\n"
     ]
    },
    {
     "name": "stdout",
     "output_type": "stream",
     "text": [
      "[[ 69  71  71 ... 111 111 110]\n",
      " [ 71  71  72 ... 111 111 110]\n",
      " [ 71  72  73 ... 110 110 110]\n",
      " ...\n",
      " [ 96  95  94 ...  81  82  84]\n",
      " [ 95  95  96 ...  82  83  84]\n",
      " [ 96  97  97 ...  82  83  86]]\n",
      "(300, 300)\n"
     ]
    },
    {
     "name": "stderr",
     "output_type": "stream",
     "text": [
      "Exception in thread Thread-47:\n",
      "Traceback (most recent call last):\n",
      "  File \"C:\\Users\\ADMIN\\Anaconda3\\envs\\tf\\lib\\threading.py\", line 916, in _bootstrap_inner\n",
      "    self.run()\n",
      "  File \"C:\\Users\\ADMIN\\Anaconda3\\envs\\tf\\lib\\threading.py\", line 864, in run\n",
      "    self._target(*self._args, **self._kwargs)\n",
      "  File \"<ipython-input-4-abf0d164e508>\", line 12, in predicti\n",
      "    prediction = model.predict(img1)\n",
      "  File \"C:\\Users\\ADMIN\\Anaconda3\\envs\\tf\\lib\\site-packages\\tensorflow_core\\python\\keras\\engine\\training.py\", line 908, in predict\n",
      "    use_multiprocessing=use_multiprocessing)\n",
      "  File \"C:\\Users\\ADMIN\\Anaconda3\\envs\\tf\\lib\\site-packages\\tensorflow_core\\python\\keras\\engine\\training_arrays.py\", line 716, in predict\n",
      "    x, check_steps=True, steps_name='steps', steps=steps)\n",
      "  File \"C:\\Users\\ADMIN\\Anaconda3\\envs\\tf\\lib\\site-packages\\tensorflow_core\\python\\keras\\engine\\training.py\", line 2471, in _standardize_user_data\n",
      "    exception_prefix='input')\n",
      "  File \"C:\\Users\\ADMIN\\Anaconda3\\envs\\tf\\lib\\site-packages\\tensorflow_core\\python\\keras\\engine\\training_utils.py\", line 563, in standardize_input_data\n",
      "    'with shape ' + str(data_shape))\n",
      "ValueError: Error when checking input: expected conv2d_1_input to have 4 dimensions, but got array with shape (300, 300)\n",
      "\n"
     ]
    }
   ],
   "source": [
    "cap = cv2.VideoCapture(0)\n",
    "cv2.namedWindow('frame', flags=1)\n",
    "\n",
    "while(True):\n",
    "    # Capture frame-by-frame\n",
    "    time.sleep(1)\n",
    "    ret, frame = cap.read()\n",
    "    #cv2.imwrite(filename='saved_img.jpg', img=frame)\n",
    "    \n",
    "    # Our operations on the frame come here\n",
    "    #gray = cv2.cvtColor(frame, cv2.COLOR_BGR2GRAY)\n",
    "    t1 = threading.Thread(target=predicti, args=(frame,)) \n",
    "    t1.start()\n",
    "    t1.join()\n",
    "    \n",
    "    \n",
    "\n",
    "    # Display the resulting frame\n",
    "    \n",
    "    if cv2.waitKey(1) & 0xFF == ord('q'):\n",
    "        break\n",
    "\n",
    "# When everything done, release the capture\n",
    "cap.release()\n",
    "cv2.destroyAllWindows()\n"
   ]
  },
  {
   "cell_type": "code",
   "execution_count": null,
   "metadata": {},
   "outputs": [],
   "source": []
  }
 ],
 "metadata": {
  "kernelspec": {
   "display_name": "Python 3",
   "language": "python",
   "name": "python3"
  },
  "language_info": {
   "codemirror_mode": {
    "name": "ipython",
    "version": 3
   },
   "file_extension": ".py",
   "mimetype": "text/x-python",
   "name": "python",
   "nbconvert_exporter": "python",
   "pygments_lexer": "ipython3",
   "version": "3.6.9"
  }
 },
 "nbformat": 4,
 "nbformat_minor": 4
}
